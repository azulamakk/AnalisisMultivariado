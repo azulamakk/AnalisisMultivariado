{
 "cells": [
  {
   "cell_type": "code",
   "execution_count": 1,
   "metadata": {},
   "outputs": [],
   "source": [
    "from sklearn.ensemble import BaggingClassifier\n",
    "from sklearn.neural_network import MLPClassifier\n",
    "from sklearn.model_selection import GridSearchCV\n",
    "from sklearn.model_selection import train_test_split\n",
    "from sklearn.metrics import accuracy_score\n",
    "from sklearn.metrics import confusion_matrix, precision_score, f1_score, matthews_corrcoef\n",
    "from collections import defaultdict\n",
    "from scipy.spatial import distance\n",
    "import pandas as pd\n",
    "import numpy as np"
   ]
  },
  {
   "cell_type": "code",
   "execution_count": 2,
   "metadata": {},
   "outputs": [
    {
     "name": "stdout",
     "output_type": "stream",
     "text": [
      "Conteo de categorías de préstamos:\n",
      "loan_grade\n",
      "A    9402\n",
      "B    9151\n",
      "C    5699\n",
      "D       0\n",
      "E       0\n",
      "F       0\n",
      "G       0\n",
      "Name: count, dtype: int64\n",
      "\n"
     ]
    }
   ],
   "source": [
    "# Cargar el conjunto de datos\n",
    "credit = pd.read_csv('/Users/azulmakk/Universidad/Analisis Multivariado/Final/credit_risk_dataset.csv', header=0)\n",
    "\n",
    "# Seleccionar columnas relevantes\n",
    "selected_columns = ['loan_amnt', 'loan_percent_income', 'person_emp_length', 'loan_int_rate', 'loan_grade']\n",
    "selected_credit = credit[selected_columns]\n",
    "\n",
    "# Convertir columnas a tipo numérico\n",
    "selected_credit.iloc[:, :4] = selected_credit.iloc[:, :4].apply(pd.to_numeric, errors='coerce')\n",
    "\n",
    "# Eliminar filas con valores nulos\n",
    "selected_credit = selected_credit.dropna()\n",
    "\n",
    "# Convertir la columna 'loan_grade' a tipo de datos categórico\n",
    "selected_credit['loan_grade'] = selected_credit['loan_grade'].astype('category')\n",
    "\n",
    "# Seleccionar categorías específicas para el conjunto de muestra\n",
    "selected_cat = [\"A\", \"B\", \"C\"]\n",
    "sample = selected_credit[selected_credit['loan_grade'].isin(selected_cat)]\n",
    "\n",
    "loan_grade_counts = sample['loan_grade'].value_counts()\n",
    "print(f'Conteo de categorías de préstamos:\\n{loan_grade_counts}\\n')\n",
    "\n",
    "# Dividir el conjunto de datos en características (X) y variable objetivo (y)\n",
    "X = sample.iloc[:, :-1]\n",
    "y = sample['loan_grade']"
   ]
  },
  {
   "cell_type": "code",
   "execution_count": 3,
   "metadata": {},
   "outputs": [
    {
     "name": "stderr",
     "output_type": "stream",
     "text": [
      "/Users/azulmakk/anaconda3/lib/python3.11/site-packages/sklearn/ensemble/_base.py:156: FutureWarning: `base_estimator` was renamed to `estimator` in version 1.2 and will be removed in 1.4.\n",
      "  warnings.warn(\n"
     ]
    }
   ],
   "source": [
    "# Dividir el conjunto de datos en conjuntos de entrenamiento y prueba\n",
    "X_train, X_test, y_train, y_test = train_test_split(X, y, test_size=0.2, random_state=42)\n",
    "\n",
    "# Construir el conjunto de redes neuronales mediante Bagging\n",
    "num_networks = 15\n",
    "num_hidden_units = 10\n",
    "nnee_classifier = BaggingClassifier(base_estimator=MLPClassifier(hidden_layer_sizes=(num_hidden_units,)),\n",
    "                                    n_estimators=num_networks, random_state=42)\n",
    "\n",
    "# Entrenar el conjunto de redes neuronales\n",
    "nnee_classifier.fit(X_train, y_train)\n",
    "\n",
    "# Predecir las etiquetas de clase en el conjunto de prueba\n",
    "y_pred = nnee_classifier.predict(X_test)"
   ]
  },
  {
   "cell_type": "code",
   "execution_count": 4,
   "metadata": {},
   "outputs": [
    {
     "name": "stdout",
     "output_type": "stream",
     "text": [
      "Matriz de Confusión:\n",
      "[[1302  544   26]\n",
      " [  92 1368  377]\n",
      " [   9  509  624]]\n",
      "Exactitud del clasificador NNEE: 0.68\n",
      "Precisión: 0.72\n",
      "F1 Score: 0.69\n",
      "Coeficiente de Correlación de Matthews: 0.52\n"
     ]
    }
   ],
   "source": [
    "# Calcular la matriz de confusión\n",
    "conf_matrix = confusion_matrix(y_test, y_pred)\n",
    "print(\"Matriz de Confusión:\")\n",
    "print(conf_matrix)\n",
    "\n",
    "# Calcular la exactitud del clasificador\n",
    "accuracy = accuracy_score(y_test, y_pred)\n",
    "print(f'Exactitud del clasificador NNEE: {accuracy:.2f}')\n",
    "\n",
    "# Calcular la precisión\n",
    "precision = precision_score(y_test, y_pred, average='weighted')\n",
    "print(f'Precisión: {precision:.2f}')\n",
    "\n",
    "# Calcular la puntuación F1\n",
    "f1 = f1_score(y_test, y_pred, average='weighted')\n",
    "print(f'F1 Score: {f1:.2f}')\n",
    "\n",
    "# Calcular el coeficiente de correlación de Matthews (MCC)\n",
    "mcc = matthews_corrcoef(y_test, y_pred)\n",
    "print(f'Coeficiente de Correlación de Matthews: {mcc:.2f}')"
   ]
  }
 ],
 "metadata": {
  "kernelspec": {
   "display_name": "Python 3",
   "language": "python",
   "name": "python3"
  },
  "language_info": {
   "codemirror_mode": {
    "name": "ipython",
    "version": 3
   },
   "file_extension": ".py",
   "mimetype": "text/x-python",
   "name": "python",
   "nbconvert_exporter": "python",
   "pygments_lexer": "ipython3",
   "version": "3.11.5"
  }
 },
 "nbformat": 4,
 "nbformat_minor": 2
}
