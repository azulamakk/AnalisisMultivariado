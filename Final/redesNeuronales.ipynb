{
 "cells": [
  {
   "cell_type": "code",
   "execution_count": 21,
   "metadata": {},
   "outputs": [],
   "source": [
    "from sklearn.ensemble import BaggingClassifier\n",
    "from sklearn.neural_network import MLPClassifier\n",
    "from sklearn.model_selection import GridSearchCV\n",
    "from sklearn.model_selection import train_test_split\n",
    "from sklearn.neighbors import KNeighborsClassifier\n",
    "from sklearn.metrics import accuracy_score\n",
    "from sklearn.metrics import confusion_matrix, precision_score, f1_score, matthews_corrcoef\n",
    "from collections import defaultdict\n",
    "from scipy.spatial import distance\n",
    "import pandas as pd\n",
    "import numpy as np\n",
    "import seaborn as sns"
   ]
  },
  {
   "cell_type": "code",
   "execution_count": 22,
   "metadata": {},
   "outputs": [
    {
     "name": "stdout",
     "output_type": "stream",
     "text": [
      "Conteo de categorías de préstamos:\n",
      "loan_grade\n",
      "A    9402\n",
      "B    9151\n",
      "C    5699\n",
      "D       0\n",
      "E       0\n",
      "F       0\n",
      "G       0\n",
      "Name: count, dtype: int64\n",
      "\n"
     ]
    }
   ],
   "source": [
    "credit = pd.read_csv('/Users/azulmakk/Universidad/Analisis Multivariado/Final/credit_risk_dataset.csv', header=0)\n",
    "\n",
    "selected_columns = ['loan_amnt', 'loan_percent_income', 'person_emp_length', 'loan_int_rate', 'loan_grade']\n",
    "selected_credit = credit[selected_columns]\n",
    "\n",
    "selected_credit.iloc[:, :4] = selected_credit.iloc[:, :4].apply(pd.to_numeric, errors='coerce')\n",
    "\n",
    "selected_credit = selected_credit.dropna()\n",
    "\n",
    "selected_credit['loan_grade'] = selected_credit['loan_grade'].astype('category')\n",
    "\n",
    "selected_cat = [\"A\", \"B\", \"C\"]\n",
    "sample = selected_credit[selected_credit['loan_grade'].isin(selected_cat)]\n",
    "\n",
    "loan_grade_counts = sample['loan_grade'].value_counts()\n",
    "print(f'Conteo de categorías de préstamos:\\n{loan_grade_counts}\\n')\n",
    "sample_size = 350\n",
    "sample = sample.sample(n=sample_size, random_state=42)\n",
    "\n",
    "X = sample.iloc[:, :-1]\n",
    "y = sample['loan_grade']"
   ]
  },
  {
   "cell_type": "code",
   "execution_count": 23,
   "metadata": {},
   "outputs": [
    {
     "name": "stderr",
     "output_type": "stream",
     "text": [
      "/Users/azulmakk/anaconda3/lib/python3.11/site-packages/sklearn/ensemble/_base.py:156: FutureWarning: `base_estimator` was renamed to `estimator` in version 1.2 and will be removed in 1.4.\n",
      "  warnings.warn(\n"
     ]
    }
   ],
   "source": [
    "X_train, X_test, y_train, y_test = train_test_split(X, y, test_size=0.2, random_state=42)\n",
    "\n",
    "# Construir el conjunto de redes neuronales mediante Bagging\n",
    "num_networks = 20\n",
    "num_hidden_units = 10\n",
    "nnee_classifier = BaggingClassifier(base_estimator=MLPClassifier(hidden_layer_sizes=(num_hidden_units,)),\n",
    "                                    n_estimators=num_networks, random_state=42)\n",
    "\n",
    "nnee_classifier.fit(X_train, y_train)\n",
    "\n",
    "y_pred = nnee_classifier.predict(X_test)"
   ]
  },
  {
   "cell_type": "code",
   "execution_count": 24,
   "metadata": {},
   "outputs": [
    {
     "name": "stdout",
     "output_type": "stream",
     "text": [
      "Matriz de Confusión:\n",
      "[[ 2 24  0]\n",
      " [ 3 28  1]\n",
      " [ 2  9  1]]\n",
      "Exactitud del clasificador NNEE: 0.44\n",
      "Precisión: 0.40\n",
      "F1 Score: 0.34\n",
      "Coeficiente de Correlación de Matthews: 0.01\n"
     ]
    }
   ],
   "source": [
    "conf_matrix = confusion_matrix(y_test, y_pred)\n",
    "print(\"Matriz de Confusión:\")\n",
    "print(conf_matrix)\n",
    "\n",
    "accuracy = accuracy_score(y_test, y_pred)\n",
    "print(f'Exactitud del clasificador NNEE: {accuracy:.2f}')\n",
    "\n",
    "precision = precision_score(y_test, y_pred, average='weighted')\n",
    "print(f'Precisión: {precision:.2f}')\n",
    "\n",
    "f1 = f1_score(y_test, y_pred, average='weighted')\n",
    "print(f'F1 Score: {f1:.2f}')\n",
    "\n",
    "mcc = matthews_corrcoef(y_test, y_pred)\n",
    "print(f'Coeficiente de Correlación de Matthews: {mcc:.2f}')"
   ]
  },
  {
   "cell_type": "markdown",
   "metadata": {},
   "source": [
    "# NNEE Pesos ponderados"
   ]
  },
  {
   "cell_type": "code",
   "execution_count": 25,
   "metadata": {},
   "outputs": [
    {
     "name": "stderr",
     "output_type": "stream",
     "text": [
      "/Users/azulmakk/anaconda3/lib/python3.11/site-packages/sklearn/ensemble/_base.py:156: FutureWarning: `base_estimator` was renamed to `estimator` in version 1.2 and will be removed in 1.4.\n",
      "  warnings.warn(\n"
     ]
    },
    {
     "name": "stdout",
     "output_type": "stream",
     "text": [
      "Matriz de Confusión KNN:\n",
      "[[15 10  1]\n",
      " [ 7 20  5]\n",
      " [ 1  5  6]]\n",
      "Exactitud del clasificador KNN con pesos ponderados: 0.59\n",
      "Precisión KNN: 0.59\n",
      "F1 Score KNN: 0.59\n",
      "Coeficiente de Correlación de Matthews KNN: 0.33\n"
     ]
    }
   ],
   "source": [
    "def weighted_distance(distances):\n",
    "    return 1 / (distances**2 + 1e-6)\n",
    "\n",
    "knn_classifier = KNeighborsClassifier(weights=weighted_distance)\n",
    "\n",
    "num_networks = 15\n",
    "num_hidden_units = 15\n",
    "nnee_classifier = BaggingClassifier(base_estimator=MLPClassifier(hidden_layer_sizes=(num_hidden_units,)),\n",
    "                                    n_estimators=num_networks, random_state=42)\n",
    "\n",
    "knn_classifier.fit(X_train, y_train)\n",
    "nnee_classifier.fit(X_train, y_train)\n",
    "\n",
    "y_pred_knn = knn_classifier.predict(X_test)\n",
    "conf_matrix_knn = confusion_matrix(y_test, y_pred_knn)\n",
    "print(\"Matriz de Confusión KNN:\")\n",
    "print(conf_matrix_knn)\n",
    "\n",
    "accuracy_knn = accuracy_score(y_test, y_pred_knn)\n",
    "print(f'Exactitud del clasificador KNN con pesos ponderados: {accuracy_knn:.2f}')\n",
    "\n",
    "precision_knn = precision_score(y_test, y_pred_knn, average='weighted')\n",
    "print(f'Precisión KNN: {precision_knn:.2f}')\n",
    "\n",
    "f1_knn = f1_score(y_test, y_pred_knn, average='weighted')\n",
    "print(f'F1 Score KNN: {f1_knn:.2f}')\n",
    "\n",
    "mcc_knn = matthews_corrcoef(y_test, y_pred_knn)\n",
    "print(f'Coeficiente de Correlación de Matthews KNN: {mcc_knn:.2f}')"
   ]
  },
  {
   "cell_type": "code",
   "execution_count": 30,
   "metadata": {},
   "outputs": [
    {
     "data": {
      "image/png": "[encoded data removed]",
      "text/plain": [
       "<Figure size 1200x400 with 4 Axes>"
      ]
     },
     "metadata": {},
     "output_type": "display_data"
    }
   ],
   "source": [
    "from matplotlib import rcParams\n",
    "import matplotlib.pyplot as plt\n",
    "\n",
    "rcParams['font.family'] = 'serif'\n",
    "rcParams['font.serif'] = ['Times New Roman'] + rcParams['font.serif']\n",
    "\n",
    "def plot_confusion_matrix_heatmapGreys(ax, cm, title):\n",
    "    sns.heatmap(cm, annot=True, fmt='d', cmap='YlGnBu', ax=ax)\n",
    "    ax.set_title(title)\n",
    "    ax.set_xlabel('Predicted Label')\n",
    "    ax.set_ylabel('True Label')\n",
    "\n",
    "fig, axes = plt.subplots(1, 2, figsize=(12, 4))\n",
    "\n",
    "cm_chebyshev = confusion_matrix(y_test, y_pred)\n",
    "plot_confusion_matrix_heatmapGreys(axes[0], cm_chebyshev, 'NNEE Original')\n",
    "\n",
    "cm_chebyshevNorm = confusion_matrix(y_test, y_pred_knn)\n",
    "plot_confusion_matrix_heatmapGreys(axes[1], cm_chebyshevNorm, 'NNEE Ponderado')\n"
   ]
  }
 ],
 "metadata": {
  "kernelspec": {
   "display_name": "Python 3",
   "language": "python",
   "name": "python3"
  },
  "language_info": {
   "codemirror_mode": {
    "name": "ipython",
    "version": 3
   },
   "file_extension": ".py",
   "mimetype": "text/x-python",
   "name": "python",
   "nbconvert_exporter": "python",
   "pygments_lexer": "ipython3",
   "version": "3.11.5"
  }
 },
 "nbformat": 4,
 "nbformat_minor": 2
}
