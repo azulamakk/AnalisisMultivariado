{
 "cells": [
  {
   "cell_type": "code",
   "execution_count": 268,
   "metadata": {},
   "outputs": [],
   "source": [
    "from sklearn.model_selection import train_test_split, GridSearchCV\n",
    "from sklearn.neighbors import KNeighborsClassifier\n",
    "from sklearn.datasets import load_iris\n",
    "from sklearn.metrics import accuracy_score, precision_score, recall_score, f1_score, confusion_matrix\n",
    "from sklearn.metrics.pairwise import pairwise_distances, cosine_similarity\n",
    "from scipy.spatial.distance import pdist, squareform\n",
    "import numpy as np\n",
    "import pandas as pd"
   ]
  },
  {
   "cell_type": "code",
   "execution_count": 271,
   "metadata": {},
   "outputs": [],
   "source": [
    "iris = pd.read_csv('https://archive.ics.uci.edu/ml/machine-learning-databases/iris/iris.data', header=None,\n",
    "                   names=['Sepal.Length', 'Sepal.Width', 'Petal.Length', 'Petal.Width', 'Species'])"
   ]
  },
  {
   "cell_type": "code",
   "execution_count": 270,
   "metadata": {},
   "outputs": [],
   "source": [
    "def calculo_indicadores(predicciones, etiquetas):\n",
    "    matriz_confusion = confusion_matrix(etiquetas, predicciones, labels=np.unique(etiquetas))\n",
    "    \n",
    "    accuracy = accuracy_score(etiquetas, predicciones)\n",
    "    \n",
    "    precision = precision_score(etiquetas, predicciones, average='weighted', zero_division=0)\n",
    "    \n",
    "    recall = recall_score(etiquetas, predicciones, average='weighted', zero_division=0)\n",
    "    \n",
    "    f1 = f1_score(etiquetas, predicciones, average='weighted', zero_division=0)\n",
    "\n",
    "    indicadores = {\"Matriz de confusion\": matriz_confusion,\"Accuracy\": accuracy, \"Precision\": precision, \"Recall\": recall, \"F1 Score\": f1}\n",
    "    return indicadores"
   ]
  },
  {
   "cell_type": "markdown",
   "metadata": {},
   "source": [
    "## _k_ Nearest Neighbour"
   ]
  },
  {
   "cell_type": "markdown",
   "metadata": {},
   "source": [
    "### Distancias euclideas"
   ]
  },
  {
   "cell_type": "code",
   "execution_count": 272,
   "metadata": {},
   "outputs": [],
   "source": [
    "X = iris[['Sepal.Length', 'Petal.Length']]\n",
    "y = iris['Species']\n",
    "X_train, X_test, y_train, y_test = train_test_split(X, y, test_size=0.2, random_state=13)"
   ]
  },
  {
   "cell_type": "code",
   "execution_count": 273,
   "metadata": {},
   "outputs": [],
   "source": [
    "param_grid = {'n_neighbors': list(range(1, 20))}\n",
    "\n",
    "knnEucli = KNeighborsClassifier()\n",
    "grid_searchEucli = GridSearchCV(knnEucli, param_grid, cv=5)"
   ]
  },
  {
   "cell_type": "code",
   "execution_count": 274,
   "metadata": {},
   "outputs": [
    {
     "data": {
      "text/html": [
       "<style>#sk-container-id-35 {color: black;}#sk-container-id-35 pre{padding: 0;}#sk-container-id-35 div.sk-toggleable {background-color: white;}#sk-container-id-35 label.sk-toggleable__label {cursor: pointer;display: block;width: 100%;margin-bottom: 0;padding: 0.3em;box-sizing: border-box;text-align: center;}#sk-container-id-35 label.sk-toggleable__label-arrow:before {content: \"▸\";float: left;margin-right: 0.25em;color: #696969;}#sk-container-id-35 label.sk-toggleable__label-arrow:hover:before {color: black;}#sk-container-id-35 div.sk-estimator:hover label.sk-toggleable__label-arrow:before {color: black;}#sk-container-id-35 div.sk-toggleable__content {max-height: 0;max-width: 0;overflow: hidden;text-align: left;background-color: #f0f8ff;}#sk-container-id-35 div.sk-toggleable__content pre {margin: 0.2em;color: black;border-radius: 0.25em;background-color: #f0f8ff;}#sk-container-id-35 input.sk-toggleable__control:checked~div.sk-toggleable__content {max-height: 200px;max-width: 100%;overflow: auto;}#sk-container-id-35 input.sk-toggleable__control:checked~label.sk-toggleable__label-arrow:before {content: \"▾\";}#sk-container-id-35 div.sk-estimator input.sk-toggleable__control:checked~label.sk-toggleable__label {background-color: #d4ebff;}#sk-container-id-35 div.sk-label input.sk-toggleable__control:checked~label.sk-toggleable__label {background-color: #d4ebff;}#sk-container-id-35 input.sk-hidden--visually {border: 0;clip: rect(1px 1px 1px 1px);clip: rect(1px, 1px, 1px, 1px);height: 1px;margin: -1px;overflow: hidden;padding: 0;position: absolute;width: 1px;}#sk-container-id-35 div.sk-estimator {font-family: monospace;background-color: #f0f8ff;border: 1px dotted black;border-radius: 0.25em;box-sizing: border-box;margin-bottom: 0.5em;}#sk-container-id-35 div.sk-estimator:hover {background-color: #d4ebff;}#sk-container-id-35 div.sk-parallel-item::after {content: \"\";width: 100%;border-bottom: 1px solid gray;flex-grow: 1;}#sk-container-id-35 div.sk-label:hover label.sk-toggleable__label {background-color: #d4ebff;}#sk-container-id-35 div.sk-serial::before {content: \"\";position: absolute;border-left: 1px solid gray;box-sizing: border-box;top: 0;bottom: 0;left: 50%;z-index: 0;}#sk-container-id-35 div.sk-serial {display: flex;flex-direction: column;align-items: center;background-color: white;padding-right: 0.2em;padding-left: 0.2em;position: relative;}#sk-container-id-35 div.sk-item {position: relative;z-index: 1;}#sk-container-id-35 div.sk-parallel {display: flex;align-items: stretch;justify-content: center;background-color: white;position: relative;}#sk-container-id-35 div.sk-item::before, #sk-container-id-35 div.sk-parallel-item::before {content: \"\";position: absolute;border-left: 1px solid gray;box-sizing: border-box;top: 0;bottom: 0;left: 50%;z-index: -1;}#sk-container-id-35 div.sk-parallel-item {display: flex;flex-direction: column;z-index: 1;position: relative;background-color: white;}#sk-container-id-35 div.sk-parallel-item:first-child::after {align-self: flex-end;width: 50%;}#sk-container-id-35 div.sk-parallel-item:last-child::after {align-self: flex-start;width: 50%;}#sk-container-id-35 div.sk-parallel-item:only-child::after {width: 0;}#sk-container-id-35 div.sk-dashed-wrapped {border: 1px dashed gray;margin: 0 0.4em 0.5em 0.4em;box-sizing: border-box;padding-bottom: 0.4em;background-color: white;}#sk-container-id-35 div.sk-label label {font-family: monospace;font-weight: bold;display: inline-block;line-height: 1.2em;}#sk-container-id-35 div.sk-label-container {text-align: center;}#sk-container-id-35 div.sk-container {/* jupyter's `normalize.less` sets `[hidden] { display: none; }` but bootstrap.min.css set `[hidden] { display: none !important; }` so we also need the `!important` here to be able to override the default hidden behavior on the sphinx rendered scikit-learn.org. See: https://github.com/scikit-learn/scikit-learn/issues/21755 */display: inline-block !important;position: relative;}#sk-container-id-35 div.sk-text-repr-fallback {display: none;}</style><div id=\"sk-container-id-35\" class=\"sk-top-container\"><div class=\"sk-text-repr-fallback\"><pre>GridSearchCV(cv=5, estimator=KNeighborsClassifier(),\n",
       "             param_grid={&#x27;n_neighbors&#x27;: [1, 2, 3, 4, 5, 6, 7, 8, 9, 10, 11, 12,\n",
       "                                         13, 14, 15, 16, 17, 18, 19]})</pre><b>In a Jupyter environment, please rerun this cell to show the HTML representation or trust the notebook. <br />On GitHub, the HTML representation is unable to render, please try loading this page with nbviewer.org.</b></div><div class=\"sk-container\" hidden><div class=\"sk-item sk-dashed-wrapped\"><div class=\"sk-label-container\"><div class=\"sk-label sk-toggleable\"><input class=\"sk-toggleable__control sk-hidden--visually\" id=\"sk-estimator-id-91\" type=\"checkbox\" ><label for=\"sk-estimator-id-91\" class=\"sk-toggleable__label sk-toggleable__label-arrow\">GridSearchCV</label><div class=\"sk-toggleable__content\"><pre>GridSearchCV(cv=5, estimator=KNeighborsClassifier(),\n",
       "             param_grid={&#x27;n_neighbors&#x27;: [1, 2, 3, 4, 5, 6, 7, 8, 9, 10, 11, 12,\n",
       "                                         13, 14, 15, 16, 17, 18, 19]})</pre></div></div></div><div class=\"sk-parallel\"><div class=\"sk-parallel-item\"><div class=\"sk-item\"><div class=\"sk-label-container\"><div class=\"sk-label sk-toggleable\"><input class=\"sk-toggleable__control sk-hidden--visually\" id=\"sk-estimator-id-92\" type=\"checkbox\" ><label for=\"sk-estimator-id-92\" class=\"sk-toggleable__label sk-toggleable__label-arrow\">estimator: KNeighborsClassifier</label><div class=\"sk-toggleable__content\"><pre>KNeighborsClassifier()</pre></div></div></div><div class=\"sk-serial\"><div class=\"sk-item\"><div class=\"sk-estimator sk-toggleable\"><input class=\"sk-toggleable__control sk-hidden--visually\" id=\"sk-estimator-id-93\" type=\"checkbox\" ><label for=\"sk-estimator-id-93\" class=\"sk-toggleable__label sk-toggleable__label-arrow\">KNeighborsClassifier</label><div class=\"sk-toggleable__content\"><pre>KNeighborsClassifier()</pre></div></div></div></div></div></div></div></div></div></div>"
      ],
      "text/plain": [
       "GridSearchCV(cv=5, estimator=KNeighborsClassifier(),\n",
       "             param_grid={'n_neighbors': [1, 2, 3, 4, 5, 6, 7, 8, 9, 10, 11, 12,\n",
       "                                         13, 14, 15, 16, 17, 18, 19]})"
      ]
     },
     "execution_count": 274,
     "metadata": {},
     "output_type": "execute_result"
    }
   ],
   "source": [
    "grid_searchEucli.fit(X_train, y_train)"
   ]
  },
  {
   "cell_type": "code",
   "execution_count": 275,
   "metadata": {},
   "outputs": [
    {
     "name": "stdout",
     "output_type": "stream",
     "text": [
      "Best k: 12\n",
      "Matriz de Confusion:\n",
      " [[ 9  0  0]\n",
      " [ 0  8  0]\n",
      " [ 0  2 11]]\n",
      "Accuracy: 0.9333333333333333\n",
      "Precision: 0.9466666666666667\n",
      "Recall: 0.9333333333333333\n",
      "F1 Score: 0.9342592592592592\n"
     ]
    }
   ],
   "source": [
    "best_modelEucli = grid_searchEucli.best_estimator_\n",
    "\n",
    "predictionsEucli = best_modelEucli.predict(X_test)\n",
    "indicadoresEucli = calculo_indicadores(predictionsEucli, y_test)\n",
    "\n",
    "print(\"Best k:\", best_modelEucli.get_params()['n_neighbors'])\n",
    "print(\"Matriz de Confusion:\\n\", indicadoresEucli[\"Matriz de confusion\"])\n",
    "print(\"Accuracy:\", indicadoresEucli[\"Accuracy\"])\n",
    "print(\"Precision:\", indicadoresEucli[\"Precision\"])\n",
    "print(\"Recall:\", indicadoresEucli[\"Recall\"])\n",
    "print(\"F1 Score:\", indicadoresEucli[\"F1 Score\"])"
   ]
  },
  {
   "cell_type": "markdown",
   "metadata": {},
   "source": [
    "### Distancia de Mahattan"
   ]
  },
  {
   "cell_type": "code",
   "execution_count": 276,
   "metadata": {},
   "outputs": [
    {
     "name": "stdout",
     "output_type": "stream",
     "text": [
      "Best k: 11\n",
      "Matriz de Confusion:\n",
      " [[ 9  0  0]\n",
      " [ 0  8  0]\n",
      " [ 0  2 11]]\n",
      "Accuracy: 0.9333333333333333\n",
      "Precision: 0.9466666666666667\n",
      "Recall: 0.9333333333333333\n",
      "F1 Score: 0.9342592592592592\n"
     ]
    }
   ],
   "source": [
    "knnCityBlock = KNeighborsClassifier(metric='manhattan')\n",
    "\n",
    "grid_searchCityBlock = GridSearchCV(knnCityBlock, param_grid, cv=5)\n",
    "\n",
    "grid_searchCityBlock.fit(X_train, y_train)\n",
    "\n",
    "best_modelCityBlock = grid_searchCityBlock.best_estimator_\n",
    "\n",
    "predictionsCityBlock = best_modelCityBlock.predict(X_test)\n",
    "indicadoresCityBlock = calculo_indicadores(predictionsCityBlock, y_test)\n",
    "\n",
    "accuracyCityBlock = accuracy_score(y_test, predictionsCityBlock)\n",
    "precisionCityBlock = precision_score(y_test, predictionsCityBlock, average='weighted')\n",
    "recallCityBlock = recall_score(y_test, predictionsCityBlock, average='weighted')\n",
    "f1CityBlock = f1_score(y_test, predictionsCityBlock, average='weighted')\n",
    "\n",
    "print(\"Best k:\", best_modelCityBlock.get_params()['n_neighbors'])\n",
    "print(\"Matriz de Confusion:\\n\", indicadoresCityBlock[\"Matriz de confusion\"])\n",
    "print(\"Accuracy:\", accuracyCityBlock)\n",
    "print(\"Precision:\", precisionCityBlock)\n",
    "print(\"Recall:\", recallCityBlock)\n",
    "print(\"F1 Score:\", f1CityBlock)"
   ]
  },
  {
   "cell_type": "markdown",
   "metadata": {},
   "source": [
    "### Distancia de Mahalanobis"
   ]
  },
  {
   "cell_type": "code",
   "execution_count": 277,
   "metadata": {},
   "outputs": [
    {
     "name": "stdout",
     "output_type": "stream",
     "text": [
      "Best k: 8\n",
      "Matriz de Confusion:\n",
      " [[ 9  0  0]\n",
      " [ 0  8  0]\n",
      " [ 0  1 12]]\n",
      "Accuracy: 0.9666666666666667\n",
      "Precision: 0.9703703703703703\n",
      "Recall: 0.9666666666666667\n",
      "F1 Score: 0.9669803921568628\n"
     ]
    }
   ],
   "source": [
    "knnMahala = KNeighborsClassifier(metric='mahalanobis', metric_params={'V': np.cov(X_train, rowvar=False)})\n",
    "\n",
    "grid_searchMahala = GridSearchCV(knnMahala, param_grid, cv=5)\n",
    "\n",
    "grid_searchMahala.fit(X_train, y_train)\n",
    "\n",
    "best_modelMahala = grid_searchMahala.best_estimator_\n",
    "\n",
    "predictionsMahala = best_modelMahala.predict(X_test)\n",
    "indicadoresMahala = calculo_indicadores(predictionsMahala, y_test)\n",
    "\n",
    "accuracyMahala = accuracy_score(y_test, predictionsMahala)\n",
    "precisionMahala = precision_score(y_test, predictionsMahala, average='weighted')\n",
    "recallMahala = recall_score(y_test, predictionsMahala, average='weighted')\n",
    "f1Mahala = f1_score(y_test, predictionsMahala, average='weighted')\n",
    "\n",
    "print(\"Best k:\", best_modelMahala.get_params()['n_neighbors'])\n",
    "print(\"Matriz de Confusion:\\n\", indicadoresMahala[\"Matriz de confusion\"])\n",
    "print(\"Accuracy:\", accuracyMahala)\n",
    "print(\"Precision:\", precisionMahala)\n",
    "print(\"Recall:\", recallMahala)\n",
    "print(\"F1 Score:\", f1Mahala)"
   ]
  },
  {
   "cell_type": "markdown",
   "metadata": {},
   "source": [
    "### Distancia de Chebychev"
   ]
  },
  {
   "cell_type": "code",
   "execution_count": 278,
   "metadata": {},
   "outputs": [
    {
     "name": "stdout",
     "output_type": "stream",
     "text": [
      "Best k: 12\n",
      "Matriz de Confusion:\n",
      " [[ 9  0  0]\n",
      " [ 0  8  0]\n",
      " [ 0  2 11]]\n",
      "Accuracy: 0.9333333333333333\n",
      "Precision: 0.9466666666666667\n",
      "Recall: 0.9333333333333333\n",
      "F1 Score: 0.9342592592592592\n"
     ]
    }
   ],
   "source": [
    "knn_chebyshev = KNeighborsClassifier(metric='chebyshev')\n",
    "\n",
    "grid_search_chebyshev = GridSearchCV(knn_chebyshev, param_grid, cv=5)\n",
    "\n",
    "grid_search_chebyshev.fit(X_train, y_train)\n",
    "\n",
    "best_model_chebyshev = grid_search_chebyshev.best_estimator_\n",
    "\n",
    "predictions_chebyshev = best_model_chebyshev.predict(X_test)\n",
    "indicadores_chebyshev = calculo_indicadores(predictions_chebyshev, y_test)\n",
    "\n",
    "accuracy_chebyshev = accuracy_score(y_test, predictions_chebyshev)\n",
    "precision_chebyshev = precision_score(y_test, predictions_chebyshev, average='weighted')\n",
    "recall_chebyshev = recall_score(y_test, predictions_chebyshev, average='weighted')\n",
    "f1_chebyshev = f1_score(y_test, predictions_chebyshev, average='weighted')\n",
    "\n",
    "print(\"Best k:\", best_model_chebyshev.get_params()['n_neighbors'])\n",
    "print(\"Matriz de Confusion:\\n\", indicadores_chebyshev[\"Matriz de confusion\"])\n",
    "print(\"Accuracy:\", accuracy_chebyshev)\n",
    "print(\"Precision:\", precision_chebyshev)\n",
    "print(\"Recall:\", recall_chebyshev)\n",
    "print(\"F1 Score:\", f1_chebyshev)"
   ]
  },
  {
   "cell_type": "markdown",
   "metadata": {},
   "source": [
    "### Distnacias de Canberra"
   ]
  },
  {
   "cell_type": "code",
   "execution_count": 279,
   "metadata": {},
   "outputs": [
    {
     "name": "stdout",
     "output_type": "stream",
     "text": [
      "Best k: 13\n",
      "Matriz de Confusion:\n",
      " [[ 9  0  0]\n",
      " [ 0  8  0]\n",
      " [ 0  2 11]]\n",
      "Accuracy: 0.9666666666666667\n",
      "Precision: 0.9703703703703703\n",
      "Recall: 0.9666666666666667\n",
      "F1 Score: 0.9669803921568628\n"
     ]
    }
   ],
   "source": [
    "canberra_distance = pairwise_distances(X_train, X_train, metric='canberra')\n",
    "\n",
    "knn_canberra = KNeighborsClassifier(metric='precomputed')\n",
    "\n",
    "grid_search_canberra = GridSearchCV(knn_canberra, param_grid, cv=5)\n",
    "\n",
    "grid_search_canberra.fit(canberra_distance, y_train)\n",
    "\n",
    "best_model_canberra = grid_search_canberra.best_estimator_\n",
    "\n",
    "canberra_distance_test = pairwise_distances(X_test, X_train, metric='canberra')\n",
    "\n",
    "predictions_canberra = best_model_canberra.predict(canberra_distance_test)\n",
    "indicadores_canberra = calculo_indicadores(predictions_chebyshev, y_test)\n",
    "\n",
    "accuracy_canberra = accuracy_score(y_test, predictions_canberra)\n",
    "precision_canberra = precision_score(y_test, predictions_canberra, average='weighted')\n",
    "recall_canberra = recall_score(y_test, predictions_canberra, average='weighted')\n",
    "f1_canberra = f1_score(y_test, predictions_canberra, average='weighted')\n",
    "\n",
    "print(\"Best k:\", best_model_canberra.get_params()['n_neighbors'])\n",
    "print(\"Matriz de Confusion:\\n\", indicadores_canberra[\"Matriz de confusion\"])\n",
    "print(\"Accuracy:\", accuracy_canberra)\n",
    "print(\"Precision:\", precision_canberra)\n",
    "print(\"Recall:\", recall_canberra)\n",
    "print(\"F1 Score:\", f1_canberra)"
   ]
  }
 ],
 "metadata": {
  "kernelspec": {
   "display_name": "Python 3",
   "language": "python",
   "name": "python3"
  },
  "language_info": {
   "codemirror_mode": {
    "name": "ipython",
    "version": 3
   },
   "file_extension": ".py",
   "mimetype": "text/x-python",
   "name": "python",
   "nbconvert_exporter": "python",
   "pygments_lexer": "ipython3",
   "version": "3.11.5"
  }
 },
 "nbformat": 4,
 "nbformat_minor": 2
}
