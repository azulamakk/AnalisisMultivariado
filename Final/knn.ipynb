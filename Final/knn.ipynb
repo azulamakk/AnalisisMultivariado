{
 "cells": [
  {
   "cell_type": "code",
   "execution_count": 118,
   "metadata": {},
   "outputs": [],
   "source": [
    "from sklearn.model_selection import train_test_split, GridSearchCV\n",
    "from sklearn.neighbors import KNeighborsClassifier\n",
    "from sklearn.metrics import accuracy_score, precision_score, f1_score, confusion_matrix,matthews_corrcoef\n",
    "from sklearn.metrics.pairwise import pairwise_distances, cosine_similarity\n",
    "from scipy.spatial.distance import pdist, squareform\n",
    "from scipy.spatial import distance\n",
    "import pandas as pd\n",
    "import numpy as np\n",
    "from collections import defaultdict"
   ]
  },
  {
   "cell_type": "code",
   "execution_count": 119,
   "metadata": {},
   "outputs": [
    {
     "name": "stdout",
     "output_type": "stream",
     "text": [
      "Index(['person_age', 'person_income', 'person_home_ownership',\n",
      "       'person_emp_length', 'loan_intent', 'loan_grade', 'loan_amnt',\n",
      "       'loan_int_rate', 'loan_status', 'loan_percent_income',\n",
      "       'cb_person_default_on_file', 'cb_person_cred_hist_length'],\n",
      "      dtype='object')\n",
      "   loan_amnt  loan_percent_income  person_emp_length  loan_int_rate loan_grade\n",
      "0      35000                 0.59              123.0          16.02          D\n",
      "1       1000                 0.10                5.0          11.14          B\n",
      "2       5500                 0.57                1.0          12.87          C\n",
      "3      35000                 0.53                4.0          15.23          C\n",
      "4      35000                 0.55                8.0          14.27          C\n",
      "       loan_amnt  loan_percent_income  person_emp_length  loan_int_rate  \\\n",
      "26015       3600                 0.04               17.0           8.49   \n",
      "25745      12300                 0.18                3.0           8.49   \n",
      "21274       5400                 0.14                2.0          11.11   \n",
      "14025      14000                 0.19                3.0          10.75   \n",
      "22706       7500                 0.13                9.0          11.14   \n",
      "\n",
      "      loan_grade  \n",
      "26015          A  \n",
      "25745          A  \n",
      "21274          B  \n",
      "14025          B  \n",
      "22706          B  \n"
     ]
    }
   ],
   "source": [
    "credit = pd.read_csv('/Users/azulmakk/Universidad/Analisis Multivariado/Final/credit_risk_dataset.csv', header=0)\n",
    "print(credit.columns)\n",
    "selected_columns = ['loan_amnt', 'loan_percent_income', 'person_emp_length', 'loan_int_rate', 'loan_grade']\n",
    "\n",
    "selected_credit = credit[selected_columns]\n",
    "print(selected_credit.head())\n",
    "\n",
    "selected_credit.iloc[:, :4] = selected_credit.iloc[:, :4].apply(pd.to_numeric, errors='coerce')\n",
    "selected_credit = selected_credit.dropna()\n",
    "selected_credit['loan_grade'] = selected_credit['loan_grade'].astype('category')\n",
    "\n",
    "selected_cat = [\"A\", \"B\", \"C\"]\n",
    "sample = selected_credit[selected_credit['loan_grade'].isin(selected_cat)]\n",
    "\n",
    "sample_size = 500\n",
    "sample = sample.sample(n=sample_size, random_state=42)\n",
    "print(sample.head())"
   ]
  },
  {
   "cell_type": "code",
   "execution_count": 120,
   "metadata": {},
   "outputs": [],
   "source": [
    "def calculo_indicadores(predicciones, etiquetas):\n",
    "    matriz_confusion = confusion_matrix(etiquetas, predicciones, labels=np.unique(etiquetas))\n",
    "    \n",
    "    accuracy = accuracy_score(etiquetas, predicciones)\n",
    "    \n",
    "    precision = precision_score(etiquetas, predicciones, average='weighted', zero_division=0)\n",
    "    \n",
    "    recall = recall_score(etiquetas, predicciones, average='weighted', zero_division=0)\n",
    "    \n",
    "    f1 = f1_score(etiquetas, predicciones, average='weighted', zero_division=0)\n",
    "\n",
    "    indicadores = {\"Matriz de confusion\": matriz_confusion,\"Accuracy\": accuracy, \"Precision\": precision, \"Recall\": recall, \"F1 Score\": f1}\n",
    "    return indicadores"
   ]
  },
  {
   "cell_type": "markdown",
   "metadata": {},
   "source": [
    "## _k_ Nearest Neighbour"
   ]
  },
  {
   "cell_type": "markdown",
   "metadata": {},
   "source": [
    "### Distancias Euclideas"
   ]
  },
  {
   "cell_type": "code",
   "execution_count": 121,
   "metadata": {},
   "outputs": [],
   "source": [
    "X = sample[['loan_amnt', 'loan_percent_income', 'person_emp_length', 'loan_int_rate']]\n",
    "y = sample['loan_grade']\n",
    "\n",
    "X_train, X_test, y_train, y_test = train_test_split(X, y, test_size=0.2, random_state=13)"
   ]
  },
  {
   "cell_type": "code",
   "execution_count": 122,
   "metadata": {},
   "outputs": [],
   "source": [
    "param_grid = {'n_neighbors': list(range(1, 50))}\n",
    "\n",
    "knnEucli = KNeighborsClassifier()\n",
    "grid_searchEucli = GridSearchCV(knnEucli, param_grid, cv=5)"
   ]
  },
  {
   "cell_type": "code",
   "execution_count": 123,
   "metadata": {},
   "outputs": [
    {
     "data": {
      "text/html": [
       "<style>#sk-container-id-8 {color: black;}#sk-container-id-8 pre{padding: 0;}#sk-container-id-8 div.sk-toggleable {background-color: white;}#sk-container-id-8 label.sk-toggleable__label {cursor: pointer;display: block;width: 100%;margin-bottom: 0;padding: 0.3em;box-sizing: border-box;text-align: center;}#sk-container-id-8 label.sk-toggleable__label-arrow:before {content: \"▸\";float: left;margin-right: 0.25em;color: #696969;}#sk-container-id-8 label.sk-toggleable__label-arrow:hover:before {color: black;}#sk-container-id-8 div.sk-estimator:hover label.sk-toggleable__label-arrow:before {color: black;}#sk-container-id-8 div.sk-toggleable__content {max-height: 0;max-width: 0;overflow: hidden;text-align: left;background-color: #f0f8ff;}#sk-container-id-8 div.sk-toggleable__content pre {margin: 0.2em;color: black;border-radius: 0.25em;background-color: #f0f8ff;}#sk-container-id-8 input.sk-toggleable__control:checked~div.sk-toggleable__content {max-height: 200px;max-width: 100%;overflow: auto;}#sk-container-id-8 input.sk-toggleable__control:checked~label.sk-toggleable__label-arrow:before {content: \"▾\";}#sk-container-id-8 div.sk-estimator input.sk-toggleable__control:checked~label.sk-toggleable__label {background-color: #d4ebff;}#sk-container-id-8 div.sk-label input.sk-toggleable__control:checked~label.sk-toggleable__label {background-color: #d4ebff;}#sk-container-id-8 input.sk-hidden--visually {border: 0;clip: rect(1px 1px 1px 1px);clip: rect(1px, 1px, 1px, 1px);height: 1px;margin: -1px;overflow: hidden;padding: 0;position: absolute;width: 1px;}#sk-container-id-8 div.sk-estimator {font-family: monospace;background-color: #f0f8ff;border: 1px dotted black;border-radius: 0.25em;box-sizing: border-box;margin-bottom: 0.5em;}#sk-container-id-8 div.sk-estimator:hover {background-color: #d4ebff;}#sk-container-id-8 div.sk-parallel-item::after {content: \"\";width: 100%;border-bottom: 1px solid gray;flex-grow: 1;}#sk-container-id-8 div.sk-label:hover label.sk-toggleable__label {background-color: #d4ebff;}#sk-container-id-8 div.sk-serial::before {content: \"\";position: absolute;border-left: 1px solid gray;box-sizing: border-box;top: 0;bottom: 0;left: 50%;z-index: 0;}#sk-container-id-8 div.sk-serial {display: flex;flex-direction: column;align-items: center;background-color: white;padding-right: 0.2em;padding-left: 0.2em;position: relative;}#sk-container-id-8 div.sk-item {position: relative;z-index: 1;}#sk-container-id-8 div.sk-parallel {display: flex;align-items: stretch;justify-content: center;background-color: white;position: relative;}#sk-container-id-8 div.sk-item::before, #sk-container-id-8 div.sk-parallel-item::before {content: \"\";position: absolute;border-left: 1px solid gray;box-sizing: border-box;top: 0;bottom: 0;left: 50%;z-index: -1;}#sk-container-id-8 div.sk-parallel-item {display: flex;flex-direction: column;z-index: 1;position: relative;background-color: white;}#sk-container-id-8 div.sk-parallel-item:first-child::after {align-self: flex-end;width: 50%;}#sk-container-id-8 div.sk-parallel-item:last-child::after {align-self: flex-start;width: 50%;}#sk-container-id-8 div.sk-parallel-item:only-child::after {width: 0;}#sk-container-id-8 div.sk-dashed-wrapped {border: 1px dashed gray;margin: 0 0.4em 0.5em 0.4em;box-sizing: border-box;padding-bottom: 0.4em;background-color: white;}#sk-container-id-8 div.sk-label label {font-family: monospace;font-weight: bold;display: inline-block;line-height: 1.2em;}#sk-container-id-8 div.sk-label-container {text-align: center;}#sk-container-id-8 div.sk-container {/* jupyter's `normalize.less` sets `[hidden] { display: none; }` but bootstrap.min.css set `[hidden] { display: none !important; }` so we also need the `!important` here to be able to override the default hidden behavior on the sphinx rendered scikit-learn.org. See: https://github.com/scikit-learn/scikit-learn/issues/21755 */display: inline-block !important;position: relative;}#sk-container-id-8 div.sk-text-repr-fallback {display: none;}</style><div id=\"sk-container-id-8\" class=\"sk-top-container\"><div class=\"sk-text-repr-fallback\"><pre>GridSearchCV(cv=5, estimator=KNeighborsClassifier(),\n",
       "             param_grid={&#x27;n_neighbors&#x27;: [1, 2, 3, 4, 5, 6, 7, 8, 9, 10, 11, 12,\n",
       "                                         13, 14, 15, 16, 17, 18, 19, 20, 21, 22,\n",
       "                                         23, 24, 25, 26, 27, 28, 29, 30, ...]})</pre><b>In a Jupyter environment, please rerun this cell to show the HTML representation or trust the notebook. <br />On GitHub, the HTML representation is unable to render, please try loading this page with nbviewer.org.</b></div><div class=\"sk-container\" hidden><div class=\"sk-item sk-dashed-wrapped\"><div class=\"sk-label-container\"><div class=\"sk-label sk-toggleable\"><input class=\"sk-toggleable__control sk-hidden--visually\" id=\"sk-estimator-id-22\" type=\"checkbox\" ><label for=\"sk-estimator-id-22\" class=\"sk-toggleable__label sk-toggleable__label-arrow\">GridSearchCV</label><div class=\"sk-toggleable__content\"><pre>GridSearchCV(cv=5, estimator=KNeighborsClassifier(),\n",
       "             param_grid={&#x27;n_neighbors&#x27;: [1, 2, 3, 4, 5, 6, 7, 8, 9, 10, 11, 12,\n",
       "                                         13, 14, 15, 16, 17, 18, 19, 20, 21, 22,\n",
       "                                         23, 24, 25, 26, 27, 28, 29, 30, ...]})</pre></div></div></div><div class=\"sk-parallel\"><div class=\"sk-parallel-item\"><div class=\"sk-item\"><div class=\"sk-label-container\"><div class=\"sk-label sk-toggleable\"><input class=\"sk-toggleable__control sk-hidden--visually\" id=\"sk-estimator-id-23\" type=\"checkbox\" ><label for=\"sk-estimator-id-23\" class=\"sk-toggleable__label sk-toggleable__label-arrow\">estimator: KNeighborsClassifier</label><div class=\"sk-toggleable__content\"><pre>KNeighborsClassifier()</pre></div></div></div><div class=\"sk-serial\"><div class=\"sk-item\"><div class=\"sk-estimator sk-toggleable\"><input class=\"sk-toggleable__control sk-hidden--visually\" id=\"sk-estimator-id-24\" type=\"checkbox\" ><label for=\"sk-estimator-id-24\" class=\"sk-toggleable__label sk-toggleable__label-arrow\">KNeighborsClassifier</label><div class=\"sk-toggleable__content\"><pre>KNeighborsClassifier()</pre></div></div></div></div></div></div></div></div></div></div>"
      ],
      "text/plain": [
       "GridSearchCV(cv=5, estimator=KNeighborsClassifier(),\n",
       "             param_grid={'n_neighbors': [1, 2, 3, 4, 5, 6, 7, 8, 9, 10, 11, 12,\n",
       "                                         13, 14, 15, 16, 17, 18, 19, 20, 21, 22,\n",
       "                                         23, 24, 25, 26, 27, 28, 29, 30, ...]})"
      ]
     },
     "execution_count": 123,
     "metadata": {},
     "output_type": "execute_result"
    }
   ],
   "source": [
    "grid_searchEucli.fit(X_train, y_train)"
   ]
  },
  {
   "cell_type": "code",
   "execution_count": 124,
   "metadata": {},
   "outputs": [
    {
     "name": "stdout",
     "output_type": "stream",
     "text": [
      "Best k: 1\n",
      "Matriz de Confusion:\n",
      " [[33  5  1]\n",
      " [ 6 21  9]\n",
      " [ 3  7 15]]\n",
      "Accuracy: 0.69\n",
      "Precision: 0.6855194805194804\n",
      "Matthews Correlation Coefficient: 0.5273720280380051\n",
      "F1 Score: 0.6869082125603865\n"
     ]
    }
   ],
   "source": [
    "best_modelEucli = grid_searchEucli.best_estimator_\n",
    "\n",
    "predictionsEucli = best_modelEucli.predict(X_test)\n",
    "indicadoresEucli = calculo_indicadores(predictionsEucli, y_test)\n",
    "matthews_coefEucli = matthews_corrcoef(predictionsEucli, y_test)\n",
    "\n",
    "print(\"Best k:\", best_modelEucli.get_params()['n_neighbors'])\n",
    "print(\"Matriz de Confusion:\\n\", indicadoresEucli[\"Matriz de confusion\"])\n",
    "print(\"Accuracy:\", indicadoresEucli[\"Accuracy\"])\n",
    "print(\"Precision:\", indicadoresEucli[\"Precision\"])\n",
    "print(\"Matthews Correlation Coefficient:\", matthews_coefEucli)\n",
    "print(\"F1 Score:\", indicadoresEucli[\"F1 Score\"])"
   ]
  },
  {
   "cell_type": "markdown",
   "metadata": {},
   "source": [
    "### Distancia de Mahattan"
   ]
  },
  {
   "cell_type": "code",
   "execution_count": 125,
   "metadata": {},
   "outputs": [
    {
     "name": "stdout",
     "output_type": "stream",
     "text": [
      "Best k: 1\n",
      "Matriz de Confusion:\n",
      " [[34  3  2]\n",
      " [ 5 21 10]\n",
      " [ 3  7 15]]\n",
      "Accuracy: 0.7\n",
      "Precision: 0.6984741423451101\n",
      "Matthews Correlation Coefficient: 0.5450246485532321\n",
      "F1 Score: 0.6973098184292214\n"
     ]
    }
   ],
   "source": [
    "knnCityBlock = KNeighborsClassifier(metric='manhattan')\n",
    "\n",
    "grid_searchCityBlock = GridSearchCV(knnCityBlock, param_grid, cv=5)\n",
    "\n",
    "grid_searchCityBlock.fit(X_train, y_train)\n",
    "\n",
    "best_modelCityBlock = grid_searchCityBlock.best_estimator_\n",
    "\n",
    "predictionsCityBlock = best_modelCityBlock.predict(X_test)\n",
    "indicadoresCityBlock = calculo_indicadores(predictionsCityBlock, y_test)\n",
    "matthews_coefCityBlock = matthews_corrcoef(predictionsCityBlock, y_test)\n",
    "accuracyCityBlock = accuracy_score(y_test, predictionsCityBlock)\n",
    "precisionCityBlock = precision_score(y_test, predictionsCityBlock, average='weighted')\n",
    "f1CityBlock = f1_score(y_test, predictionsCityBlock, average='weighted')\n",
    "\n",
    "print(\"Best k:\", best_modelCityBlock.get_params()['n_neighbors'])\n",
    "print(\"Matriz de Confusion:\\n\", indicadoresCityBlock[\"Matriz de confusion\"])\n",
    "print(\"Accuracy:\", accuracyCityBlock)\n",
    "print(\"Precision:\", precisionCityBlock)\n",
    "print(\"Matthews Correlation Coefficient:\", matthews_coefCityBlock)\n",
    "print(\"F1 Score:\", f1CityBlock)"
   ]
  },
  {
   "cell_type": "markdown",
   "metadata": {},
   "source": [
    "### Distancia de Chebychev"
   ]
  },
  {
   "cell_type": "code",
   "execution_count": 126,
   "metadata": {},
   "outputs": [
    {
     "name": "stdout",
     "output_type": "stream",
     "text": [
      "Best k: 1\n",
      "Matriz de Confusion:\n",
      " [[28  9  2]\n",
      " [ 6 21  9]\n",
      " [ 4  6 15]]\n",
      "Accuracy: 0.64\n",
      "Precision: 0.6415991902834008\n",
      "Matthews Correlation Coefficient: 0.452291251903906\n",
      "F1 Score: 0.6406951871657753\n"
     ]
    }
   ],
   "source": [
    "knn_chebyshev = KNeighborsClassifier(metric='chebyshev')\n",
    "\n",
    "grid_search_chebyshev = GridSearchCV(knn_chebyshev, param_grid, cv=5)\n",
    "\n",
    "grid_search_chebyshev.fit(X_train, y_train)\n",
    "\n",
    "best_model_chebyshev = grid_search_chebyshev.best_estimator_\n",
    "\n",
    "predictions_chebyshev = best_model_chebyshev.predict(X_test)\n",
    "indicadores_chebyshev = calculo_indicadores(predictions_chebyshev, y_test)\n",
    "\n",
    "accuracy_chebyshev = accuracy_score(y_test, predictions_chebyshev)\n",
    "precision_chebyshev = precision_score(y_test, predictions_chebyshev, average='weighted')\n",
    "matthews_coefChebychev = matthews_corrcoef(predictions_chebyshev, y_test)\n",
    "f1_chebyshev = f1_score(y_test, predictions_chebyshev, average='weighted')\n",
    "\n",
    "print(\"Best k:\", best_model_chebyshev.get_params()['n_neighbors'])\n",
    "print(\"Matriz de Confusion:\\n\", indicadores_chebyshev[\"Matriz de confusion\"])\n",
    "print(\"Accuracy:\", accuracy_chebyshev)\n",
    "print(\"Precision:\", precision_chebyshev)\n",
    "print(\"Matthews Correlation Coefficient:\", matthews_coefChebychev)\n",
    "print(\"F1 Score:\", f1_chebyshev)"
   ]
  },
  {
   "cell_type": "markdown",
   "metadata": {},
   "source": [
    "### Distancias de Canberra"
   ]
  },
  {
   "cell_type": "code",
   "execution_count": 127,
   "metadata": {},
   "outputs": [
    {
     "name": "stdout",
     "output_type": "stream",
     "text": [
      "Best k: 23\n",
      "Matriz de Confusion:\n",
      " [[28  9  2]\n",
      " [ 6 21  9]\n",
      " [ 4  6 15]]\n",
      "Accuracy: 0.71\n",
      "Precision: 0.7352380952380954\n",
      "Matthews Correlation Coefficient: 0.5753829807380907\n",
      "F1 Score: 0.676125\n"
     ]
    }
   ],
   "source": [
    "canberra_distance = pairwise_distances(X_train, X_train, metric='canberra')\n",
    "\n",
    "knn_canberra = KNeighborsClassifier(metric='precomputed')\n",
    "\n",
    "grid_search_canberra = GridSearchCV(knn_canberra, param_grid, cv=5)\n",
    "\n",
    "grid_search_canberra.fit(canberra_distance, y_train)\n",
    "\n",
    "best_model_canberra = grid_search_canberra.best_estimator_\n",
    "\n",
    "canberra_distance_test = pairwise_distances(X_test, X_train, metric='canberra')\n",
    "\n",
    "predictions_canberra = best_model_canberra.predict(canberra_distance_test)\n",
    "indicadores_canberra = calculo_indicadores(predictions_chebyshev, y_test)\n",
    "matthews_coefCanberra = matthews_corrcoef(predictions_canberra, y_test)\n",
    "accuracy_canberra = accuracy_score(y_test, predictions_canberra)\n",
    "precision_canberra = precision_score(y_test, predictions_canberra, average='weighted')\n",
    "\n",
    "f1_canberra = f1_score(y_test, predictions_canberra, average='weighted')\n",
    "\n",
    "print(\"Best k:\", best_model_canberra.get_params()['n_neighbors'])\n",
    "print(\"Matriz de Confusion:\\n\", indicadores_canberra[\"Matriz de confusion\"])\n",
    "print(\"Accuracy:\", accuracy_canberra)\n",
    "print(\"Precision:\", precision_canberra)\n",
    "print(\"Matthews Correlation Coefficient:\", matthews_coefCanberra)\n",
    "print(\"F1 Score:\", f1_canberra)"
   ]
  },
  {
   "cell_type": "code",
   "execution_count": 128,
   "metadata": {},
   "outputs": [
    {
     "data": {
      "image/png": "[encoded data removed]",
      "text/plain": [
       "<Figure size 1200x1000 with 8 Axes>"
      ]
     },
     "metadata": {},
     "output_type": "display_data"
    }
   ],
   "source": [
    "import matplotlib.pyplot as plt\n",
    "import seaborn as sns\n",
    "from sklearn.metrics import confusion_matrix\n",
    "\n",
    "def plot_confusion_matrix_heatmap(ax, cm, title):\n",
    "    sns.heatmap(cm, annot=True, fmt='d', cmap='Blues', ax=ax)\n",
    "    ax.set_title(title)\n",
    "    ax.set_xlabel('Predicted Label')\n",
    "    ax.set_ylabel('True Label')\n",
    "\n",
    "fig, axes = plt.subplots(2, 2, figsize=(12, 10))\n",
    "\n",
    "cm_chebyshev = confusion_matrix(y_test, predictions_chebyshev)\n",
    "plot_confusion_matrix_heatmap(axes[0, 0], cm_chebyshev, 'Chebyshev')\n",
    "\n",
    "cm_manhattan = confusion_matrix(y_test, predictionsCityBlock)\n",
    "plot_confusion_matrix_heatmap(axes[0, 1], cm_manhattan, 'Manhattan')\n",
    "\n",
    "cm_canberra = confusion_matrix(y_test, predictions_canberra)\n",
    "plot_confusion_matrix_heatmap(axes[1, 0], cm_canberra, 'Canberra')\n",
    "\n",
    "cm_euclidean = confusion_matrix(y_test, predictionsEucli)\n",
    "plot_confusion_matrix_heatmap(axes[1, 1], cm_euclidean, 'Euclidean')\n",
    "\n",
    "plt.tight_layout()\n",
    "plt.show()"
   ]
  },
  {
   "cell_type": "markdown",
   "metadata": {},
   "source": [
    "# Algoritmo de elaboración propia"
   ]
  },
  {
   "cell_type": "code",
   "execution_count": 129,
   "metadata": {},
   "outputs": [
    {
     "name": "stdout",
     "output_type": "stream",
     "text": [
      "Matriz de Confusion:\n",
      " [[33  5  1]\n",
      " [ 6 21  9]\n",
      " [ 3  7 15]]\n",
      "Accuracy: 0.69\n",
      "Precision: 0.6855194805194804\n",
      "Matthews Correlation Coefficient: 0.5273720280380051\n",
      "F1 Score: 0.6869082125603865\n"
     ]
    }
   ],
   "source": [
    "def calculate_group_probabilitiesEucli(X_train, y_train, X_test, k_neighbors):\n",
    "    probabilities = []\n",
    "\n",
    "    for i in range(len(X_test)):\n",
    "        distances = [(j, distance.euclidean(X_test.iloc[i], X_train.iloc[j])) for j in range(len(X_train))]\n",
    "        distances.sort(key=lambda x: x[1])\n",
    "        neighbors = distances[:k_neighbors]\n",
    "\n",
    "        group_probabilities = defaultdict(float)\n",
    "        total_distance = 0\n",
    "\n",
    "        for idx, dist in neighbors:\n",
    "            group = y_train.iloc[idx]\n",
    "            weight = 1 / (dist + 1e-6)  \n",
    "            group_probabilities[group] += weight\n",
    "            total_distance += weight\n",
    "\n",
    "        normalized_probabilities = {group: prob / total_distance for group, prob in group_probabilities.items()}\n",
    "        probabilities.append(normalized_probabilities)\n",
    "\n",
    "    return probabilities\n",
    "\n",
    "k_neighborsEucli = best_modelEucli.get_params()['n_neighbors']\n",
    "probabilitiesEucli = calculate_group_probabilitiesEucli(X_train, y_train, X_test, k_neighborsEucli)\n",
    "\n",
    "threshold = 0.8\n",
    "\n",
    "predictions_binaryEucli = []\n",
    "for prob_dict in probabilitiesEucli:\n",
    "    predicted_classEucli = max(prob_dict.items(), key=lambda x: x[1])[0]\n",
    "    predictions_binaryEucli.append(predicted_classEucli)\n",
    "\n",
    "y_true = y_test.astype(str)\n",
    "\n",
    "confusion_matrix_binaryEucli = confusion_matrix(y_true, predictions_binaryEucli)\n",
    "accuracy_binaryEucli = accuracy_score(y_true, predictions_binaryEucli)\n",
    "precision_binaryEucli = precision_score(y_true, predictions_binaryEucli, average='weighted')\n",
    "matthews_binaryCoefEucli = matthews_corrcoef(predictions_binaryEucli, y_test)\n",
    "f1_binaryEucli = f1_score(y_true, predictions_binaryEucli, average='weighted')\n",
    "\n",
    "print(\"Matriz de Confusion:\\n\", confusion_matrix_binaryEucli)\n",
    "print(\"Accuracy:\", accuracy_binaryEucli)\n",
    "print(\"Precision:\", precision_binaryEucli)\n",
    "print(\"Matthews Correlation Coefficient:\", matthews_binaryCoefEucli)\n",
    "print(\"F1 Score:\", f1_binaryEucli)"
   ]
  },
  {
   "cell_type": "markdown",
   "metadata": {},
   "source": [
    "### Distancias de Manhattan"
   ]
  },
  {
   "cell_type": "code",
   "execution_count": 130,
   "metadata": {},
   "outputs": [
    {
     "name": "stdout",
     "output_type": "stream",
     "text": [
      "Matriz de Confusión:\n",
      " [[34  3  2]\n",
      " [ 5 21 10]\n",
      " [ 3  7 15]]\n",
      "Accuracy: 0.7\n",
      "Precision: 0.6984741423451101\n",
      "Matthews Correlation Coefficient: 0.5450246485532321\n",
      "F1 Score: 0.6973098184292214\n"
     ]
    }
   ],
   "source": [
    "def calculate_group_probabilitiesManhattan(X_train, y_train, X_test, k_neighbors):\n",
    "    probabilities = []\n",
    "\n",
    "    for i in range(len(X_test)):\n",
    "        manhattan_distances = [(j, distance.cityblock(X_test.iloc[i], X_train.iloc[j])) for j in range(len(X_train))]\n",
    "        manhattan_distances.sort(key=lambda x: x[1])\n",
    "        neighbors = manhattan_distances[:k_neighbors]\n",
    "\n",
    "        group_probabilities = defaultdict(float)\n",
    "        total_distance = 0\n",
    "\n",
    "        for idx, dist in neighbors:\n",
    "            group = y_train.iloc[idx]\n",
    "            weight = 1 / (dist + 1e-6)  \n",
    "            group_probabilities[group] += weight\n",
    "            total_distance += weight\n",
    "\n",
    "        normalized_probabilities = {group: prob / total_distance for group, prob in group_probabilities.items()}\n",
    "        probabilities.append(normalized_probabilities)\n",
    "\n",
    "    return probabilities\n",
    "\n",
    "k_neighborsManhattan = best_modelCityBlock.get_params()['n_neighbors']\n",
    "\n",
    "probabilitiesManhattan = calculate_group_probabilitiesManhattan(X_train, y_train, X_test, k_neighborsManhattan)\n",
    "\n",
    "threshold = 0.8\n",
    "\n",
    "predictions_binaryManhattan = []\n",
    "for prob_dict in probabilitiesManhattan:\n",
    "    predicted_classManhattan = max(prob_dict.items(), key=lambda x: x[1])[0]\n",
    "    predictions_binaryManhattan.append(predicted_classManhattan)\n",
    "\n",
    "y_true = y_test.astype(str)\n",
    "confusion_matrix_binaryManhattan = confusion_matrix(y_true, predictions_binaryManhattan)\n",
    "accuracy_binaryManhattan = accuracy_score(y_true, predictions_binaryManhattan)\n",
    "precision_binaryManhattan = precision_score(y_true, predictions_binaryManhattan, average='weighted')\n",
    "matthews_binaryCoefManhattan = matthews_corrcoef(predictions_binaryManhattan, y_test)\n",
    "f1_binaryManhattan = f1_score(y_true, predictions_binaryManhattan, average='weighted')\n",
    "\n",
    "print(\"Matriz de Confusión:\\n\", confusion_matrix_binaryManhattan)\n",
    "print(\"Accuracy:\", accuracy_binaryManhattan)\n",
    "print(\"Precision:\", precision_binaryManhattan)\n",
    "print(\"Matthews Correlation Coefficient:\", matthews_binaryCoefManhattan)\n",
    "print(\"F1 Score:\", f1_binaryManhattan)"
   ]
  },
  {
   "cell_type": "markdown",
   "metadata": {},
   "source": [
    "### Distancias de Chevychev"
   ]
  },
  {
   "cell_type": "code",
   "execution_count": 131,
   "metadata": {},
   "outputs": [
    {
     "name": "stdout",
     "output_type": "stream",
     "text": [
      "Matriz de Confusión:\n",
      " [[28  9  2]\n",
      " [ 6 20 10]\n",
      " [ 4  7 14]]\n",
      "Accuracy: 0.62\n",
      "Precision: 0.6219838056680161\n",
      "Matthews Correlation Coefficient: 0.42185442472329326\n",
      "F1 Score: 0.6208912655971479\n"
     ]
    }
   ],
   "source": [
    "import numpy as np\n",
    "from scipy.spatial import distance\n",
    "from collections import defaultdict\n",
    "\n",
    "def calculate_group_probabilitiesChebyshev(X_train, y_train, X_test, k_neighbors):\n",
    "    probabilities = []\n",
    "\n",
    "    for i in range(len(X_test)):\n",
    "        chebyshev_distances = [(j, distance.chebyshev(X_test.iloc[i], X_train.iloc[j])) for j in range(len(X_train))]\n",
    "        chebyshev_distances.sort(key=lambda x: x[1])\n",
    "        neighbors = chebyshev_distances[:k_neighbors]\n",
    "\n",
    "        group_probabilities = defaultdict(float)\n",
    "        total_distance = 0\n",
    "\n",
    "        for idx, dist in neighbors:\n",
    "            group = y_train.iloc[idx]\n",
    "            weight = 1 / (dist + 1e-6)  # Añadir pequeño valor para evitar división por cero\n",
    "            group_probabilities[group] += weight\n",
    "            total_distance += weight\n",
    "\n",
    "        normalized_probabilities = {group: prob / total_distance for group, prob in group_probabilities.items()}\n",
    "        probabilities.append(normalized_probabilities)\n",
    "\n",
    "    return probabilities\n",
    "\n",
    "k_neighborsChebyshev = best_model_chebyshev.get_params()['n_neighbors']\n",
    "\n",
    "probabilitiesChebyshev = calculate_group_probabilitiesChebyshev(X_train, y_train, X_test, k_neighborsChebyshev)\n",
    "\n",
    "threshold = 0.8\n",
    "\n",
    "predictions_binaryChebyshev = []\n",
    "for prob_dict in probabilitiesChebyshev:\n",
    "    predicted_classChebyshev = max(prob_dict.items(), key=lambda x: x[1])[0]\n",
    "    predictions_binaryChebyshev.append(predicted_classChebyshev)\n",
    "\n",
    "y_true = y_test.astype(str)\n",
    "confusion_matrix_binaryChebyshev = confusion_matrix(y_true, predictions_binaryChebyshev)\n",
    "accuracy_binaryChebyshev = accuracy_score(y_true, predictions_binaryChebyshev)\n",
    "precision_binaryChebyshev = precision_score(y_true, predictions_binaryChebyshev, average='weighted')\n",
    "matthews_binaryCoefChebychev = matthews_corrcoef(predictions_binaryChebyshev, y_test)\n",
    "f1_binaryChebyshev = f1_score(y_true, predictions_binaryChebyshev, average='weighted')\n",
    "\n",
    "print(\"Matriz de Confusión:\\n\", confusion_matrix_binaryChebyshev)\n",
    "print(\"Accuracy:\", accuracy_binaryChebyshev)\n",
    "print(\"Precision:\", precision_binaryChebyshev)\n",
    "print(\"Matthews Correlation Coefficient:\", matthews_binaryCoefChebychev)\n",
    "print(\"F1 Score:\", f1_binaryChebyshev)"
   ]
  },
  {
   "cell_type": "markdown",
   "metadata": {},
   "source": [
    "### Distancia de Canberra"
   ]
  },
  {
   "cell_type": "code",
   "execution_count": 132,
   "metadata": {},
   "outputs": [
    {
     "name": "stdout",
     "output_type": "stream",
     "text": [
      "Matriz de Confusión:\n",
      " [[36  3  0]\n",
      " [ 3 30  3]\n",
      " [ 1 13 11]]\n",
      "Accuracy: 0.77\n",
      "Precision: 0.7822111801242236\n",
      "Matthews Correlation Coefficient: 0.42185442472329326\n",
      "F1 Score: 0.7598833131466659\n"
     ]
    }
   ],
   "source": [
    "def calculate_group_probabilitiesCanberra(X_train, y_train, X_test, k_neighbors):\n",
    "    probabilities = []\n",
    "\n",
    "    for i in range(len(X_test)):\n",
    "        canberra_distances = [(j, distance.canberra(X_test.iloc[i], X_train.iloc[j])) for j in range(len(X_train))]\n",
    "        canberra_distances.sort(key=lambda x: x[1])\n",
    "        neighbors = canberra_distances[:k_neighbors]\n",
    "\n",
    "        group_probabilities = defaultdict(float)\n",
    "        total_distance = 0\n",
    "\n",
    "        for idx, dist in neighbors:\n",
    "            group = y_train.iloc[idx]\n",
    "            weight = 1 / (dist + 1e-6)  \n",
    "            group_probabilities[group] += weight\n",
    "            total_distance += weight\n",
    "\n",
    "        normalized_probabilities = {group: prob / total_distance for group, prob in group_probabilities.items()}\n",
    "        probabilities.append(normalized_probabilities)\n",
    "\n",
    "    return probabilities\n",
    "\n",
    "k_neighborsCanberra = best_model_canberra.get_params()['n_neighbors']\n",
    "\n",
    "probabilitiesCanberra = calculate_group_probabilitiesCanberra(X_train, y_train, X_test, k_neighborsCanberra)\n",
    "\n",
    "threshold = 0.8\n",
    "\n",
    "predictions_binaryCanberra = []\n",
    "for prob_dict in probabilitiesCanberra:\n",
    "    predicted_classCanberra = max(prob_dict.items(), key=lambda x: x[1])[0]\n",
    "    predictions_binaryCanberra.append(predicted_classCanberra)\n",
    "\n",
    "y_true = y_test.astype(str)\n",
    "confusion_matrix_binaryCanberra = confusion_matrix(y_true, predictions_binaryCanberra)\n",
    "accuracy_binaryCanberra = accuracy_score(y_true, predictions_binaryCanberra)\n",
    "precision_binaryCanberra = precision_score(y_true, predictions_binaryCanberra, average='weighted')\n",
    "matthews_binaryCoefCanberra = matthews_corrcoef(predictions_binaryChebyshev, y_test)\n",
    "f1_binaryCanberra = f1_score(y_true, predictions_binaryCanberra, average='weighted')\n",
    "\n",
    "print(\"Matriz de Confusión:\\n\", confusion_matrix_binaryCanberra)\n",
    "print(\"Accuracy:\", accuracy_binaryCanberra)\n",
    "print(\"Precision:\", precision_binaryCanberra)\n",
    "print(\"Matthews Correlation Coefficient:\", matthews_binaryCoefCanberra)\n",
    "print(\"F1 Score:\", f1_binaryCanberra)"
   ]
  },
  {
   "cell_type": "code",
   "execution_count": 133,
   "metadata": {},
   "outputs": [
    {
     "name": "stdout",
     "output_type": "stream",
     "text": [
      "Instance: 86\n",
      "True Label: C\n",
      "Predicted Label (Chebyshev): A\n",
      "Predicted Label (Manhattan): A\n",
      "Predicted Label (Canberra): B\n",
      "Predicted Label (Euclidean): A\n",
      "\n",
      "------------------------------\n",
      "\n",
      "Instance: 69\n",
      "True Label: C\n",
      "Predicted Label (Chebyshev): B\n",
      "Predicted Label (Manhattan): B\n",
      "Predicted Label (Canberra): B\n",
      "Predicted Label (Euclidean): B\n",
      "\n",
      "------------------------------\n",
      "\n",
      "Instance: 50\n",
      "True Label: C\n",
      "Predicted Label (Chebyshev): A\n",
      "Predicted Label (Manhattan): A\n",
      "Predicted Label (Canberra): B\n",
      "Predicted Label (Euclidean): A\n",
      "\n",
      "------------------------------\n",
      "\n",
      "Instance: 27\n",
      "True Label: A\n",
      "Predicted Label (Chebyshev): B\n",
      "Predicted Label (Manhattan): B\n",
      "Predicted Label (Canberra): A\n",
      "Predicted Label (Euclidean): B\n",
      "\n",
      "------------------------------\n",
      "\n",
      "Instance: 85\n",
      "True Label: A\n",
      "Predicted Label (Chebyshev): C\n",
      "Predicted Label (Manhattan): C\n",
      "Predicted Label (Canberra): B\n",
      "Predicted Label (Euclidean): C\n",
      "\n",
      "------------------------------\n",
      "\n"
     ]
    }
   ],
   "source": [
    "# Obtener índices de instancias mal clasificadas\n",
    "misclassified_indices = np.where(y_true != predictions_binaryChebyshev)[0]\n",
    "\n",
    "# Seleccionar algunas instancias mal clasificadas para visualizar\n",
    "num_samples_to_visualize = min(5, len(misclassified_indices))\n",
    "selected_samples = np.random.choice(misclassified_indices, num_samples_to_visualize, replace=False)\n",
    "\n",
    "# Visualizar instancias mal clasificadas\n",
    "for i, sample_idx in enumerate(selected_samples, 1):\n",
    "    print(f'Instance: {sample_idx}')\n",
    "    print(f'True Label: {y_true.iloc[sample_idx]}')\n",
    "    print(f'Predicted Label (Chebyshev): {predictions_binaryChebyshev[sample_idx]}')\n",
    "    print(f'Predicted Label (Manhattan): {predictions_binaryManhattan[sample_idx]}')\n",
    "    print(f'Predicted Label (Canberra): {predictions_binaryCanberra[sample_idx]}')\n",
    "    print(f'Predicted Label (Euclidean): {predictions_binaryEucli[sample_idx]}')\n",
    "    print('\\n' + '-'*30 + '\\n')\n"
   ]
  },
  {
   "cell_type": "code",
   "execution_count": 134,
   "metadata": {},
   "outputs": [
    {
     "data": {
      "image/png": "[encoded data removed]",
      "text/plain": [
       "<Figure size 1200x1000 with 8 Axes>"
      ]
     },
     "metadata": {},
     "output_type": "display_data"
    }
   ],
   "source": [
    "import matplotlib.pyplot as plt\n",
    "import seaborn as sns\n",
    "from sklearn.metrics import confusion_matrix\n",
    "\n",
    "def plot_confusion_matrix_heatmap(ax, cm, title):\n",
    "    sns.heatmap(cm, annot=True, fmt='d', cmap='Blues', ax=ax)\n",
    "    ax.set_title(title)\n",
    "    ax.set_xlabel('Predicted Label')\n",
    "    ax.set_ylabel('True Label')\n",
    "\n",
    "fig, axes = plt.subplots(2, 2, figsize=(12, 10))\n",
    "\n",
    "cm_chebyshev = confusion_matrix(y_true, predictions_binaryChebyshev)\n",
    "plot_confusion_matrix_heatmap(axes[0, 0], cm_chebyshev, 'Chebyshev')\n",
    "\n",
    "cm_manhattan = confusion_matrix(y_true, predictions_binaryManhattan)\n",
    "plot_confusion_matrix_heatmap(axes[0, 1], cm_manhattan, 'Manhattan')\n",
    "\n",
    "cm_canberra = confusion_matrix(y_true, predictions_binaryCanberra)\n",
    "plot_confusion_matrix_heatmap(axes[1, 0], cm_canberra, 'Canberra')\n",
    "\n",
    "cm_euclidean = confusion_matrix(y_true, predictions_binaryEucli)\n",
    "plot_confusion_matrix_heatmap(axes[1, 1], cm_euclidean, 'Euclidean')\n",
    "\n",
    "plt.tight_layout()\n",
    "plt.show()\n"
   ]
  }
 ],
 "metadata": {
  "kernelspec": {
   "display_name": "Python 3",
   "language": "python",
   "name": "python3"
  },
  "language_info": {
   "codemirror_mode": {
    "name": "ipython",
    "version": 3
   },
   "file_extension": ".py",
   "mimetype": "text/x-python",
   "name": "python",
   "nbconvert_exporter": "python",
   "pygments_lexer": "ipython3",
   "version": "3.11.5"
  }
 },
 "nbformat": 4,
 "nbformat_minor": 2
}
