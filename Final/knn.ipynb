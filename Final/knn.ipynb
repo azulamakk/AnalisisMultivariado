{
 "cells": [
  {
   "cell_type": "code",
   "execution_count": 387,
   "metadata": {},
   "outputs": [],
   "source": [
    "from sklearn.model_selection import train_test_split, GridSearchCV\n",
    "from sklearn.neighbors import KNeighborsClassifier\n",
    "from sklearn.datasets import load_iris\n",
    "from sklearn.metrics import accuracy_score, precision_score, recall_score, f1_score, confusion_matrix\n",
    "from sklearn.metrics.pairwise import pairwise_distances, cosine_similarity\n",
    "from scipy.spatial.distance import pdist, squareform\n",
    "from scipy.spatial import distance\n",
    "import pandas as pd\n",
    "import numpy as np\n",
    "from collections import defaultdict"
   ]
  },
  {
   "cell_type": "code",
   "execution_count": 388,
   "metadata": {},
   "outputs": [],
   "source": [
    "wine = pd.read_csv('/Users/azulmakk/Universidad/Analisis Multivariado/TP/winequality-red.csv', header=None,\n",
    "                   names=['pH', 'alcohol', 'fixed.acidity', 'free sulfur dioxide','quality'])\n",
    "wine.iloc[:, :-1] = wine.iloc[:, :-1].apply(pd.to_numeric, errors='coerce')\n",
    "\n",
    "wine = wine[wine['quality'].apply(lambda x: str(x).isdigit())]\n",
    "\n",
    "selected_quality = [\"5\", \"6\", \"7\"]\n",
    "sample = wine[wine['quality'].isin(selected_quality)]\n",
    "\n",
    "sample_size = 300\n",
    "sample = sample.sample(n=sample_size, random_state=42)\n",
    "sample['quality'] = sample['quality'].astype('category')"
   ]
  },
  {
   "cell_type": "code",
   "execution_count": 389,
   "metadata": {},
   "outputs": [],
   "source": [
    "def calculo_indicadores(predicciones, etiquetas):\n",
    "    matriz_confusion = confusion_matrix(etiquetas, predicciones, labels=np.unique(etiquetas))\n",
    "    \n",
    "    accuracy = accuracy_score(etiquetas, predicciones)\n",
    "    \n",
    "    precision = precision_score(etiquetas, predicciones, average='weighted', zero_division=0)\n",
    "    \n",
    "    recall = recall_score(etiquetas, predicciones, average='weighted', zero_division=0)\n",
    "    \n",
    "    f1 = f1_score(etiquetas, predicciones, average='weighted', zero_division=0)\n",
    "\n",
    "    indicadores = {\"Matriz de confusion\": matriz_confusion,\"Accuracy\": accuracy, \"Precision\": precision, \"Recall\": recall, \"F1 Score\": f1}\n",
    "    return indicadores"
   ]
  },
  {
   "cell_type": "markdown",
   "metadata": {},
   "source": [
    "## _k_ Nearest Neighbour"
   ]
  },
  {
   "cell_type": "markdown",
   "metadata": {},
   "source": [
    "### Distancias euclideas"
   ]
  },
  {
   "cell_type": "code",
   "execution_count": 390,
   "metadata": {},
   "outputs": [],
   "source": [
    "X = sample[['pH', 'alcohol', 'fixed.acidity', 'free sulfur dioxide']]\n",
    "y = sample['quality']\n",
    "X_train, X_test, y_train, y_test = train_test_split(X, y, test_size=0.2, random_state=13)"
   ]
  },
  {
   "cell_type": "code",
   "execution_count": 391,
   "metadata": {},
   "outputs": [],
   "source": [
    "param_grid = {'n_neighbors': list(range(1, 50))}\n",
    "\n",
    "knnEucli = KNeighborsClassifier()\n",
    "grid_searchEucli = GridSearchCV(knnEucli, param_grid, cv=5)"
   ]
  },
  {
   "cell_type": "code",
   "execution_count": 392,
   "metadata": {},
   "outputs": [
    {
     "data": {
      "text/html": [
       "<style>#sk-container-id-40 {color: black;}#sk-container-id-40 pre{padding: 0;}#sk-container-id-40 div.sk-toggleable {background-color: white;}#sk-container-id-40 label.sk-toggleable__label {cursor: pointer;display: block;width: 100%;margin-bottom: 0;padding: 0.3em;box-sizing: border-box;text-align: center;}#sk-container-id-40 label.sk-toggleable__label-arrow:before {content: \"▸\";float: left;margin-right: 0.25em;color: #696969;}#sk-container-id-40 label.sk-toggleable__label-arrow:hover:before {color: black;}#sk-container-id-40 div.sk-estimator:hover label.sk-toggleable__label-arrow:before {color: black;}#sk-container-id-40 div.sk-toggleable__content {max-height: 0;max-width: 0;overflow: hidden;text-align: left;background-color: #f0f8ff;}#sk-container-id-40 div.sk-toggleable__content pre {margin: 0.2em;color: black;border-radius: 0.25em;background-color: #f0f8ff;}#sk-container-id-40 input.sk-toggleable__control:checked~div.sk-toggleable__content {max-height: 200px;max-width: 100%;overflow: auto;}#sk-container-id-40 input.sk-toggleable__control:checked~label.sk-toggleable__label-arrow:before {content: \"▾\";}#sk-container-id-40 div.sk-estimator input.sk-toggleable__control:checked~label.sk-toggleable__label {background-color: #d4ebff;}#sk-container-id-40 div.sk-label input.sk-toggleable__control:checked~label.sk-toggleable__label {background-color: #d4ebff;}#sk-container-id-40 input.sk-hidden--visually {border: 0;clip: rect(1px 1px 1px 1px);clip: rect(1px, 1px, 1px, 1px);height: 1px;margin: -1px;overflow: hidden;padding: 0;position: absolute;width: 1px;}#sk-container-id-40 div.sk-estimator {font-family: monospace;background-color: #f0f8ff;border: 1px dotted black;border-radius: 0.25em;box-sizing: border-box;margin-bottom: 0.5em;}#sk-container-id-40 div.sk-estimator:hover {background-color: #d4ebff;}#sk-container-id-40 div.sk-parallel-item::after {content: \"\";width: 100%;border-bottom: 1px solid gray;flex-grow: 1;}#sk-container-id-40 div.sk-label:hover label.sk-toggleable__label {background-color: #d4ebff;}#sk-container-id-40 div.sk-serial::before {content: \"\";position: absolute;border-left: 1px solid gray;box-sizing: border-box;top: 0;bottom: 0;left: 50%;z-index: 0;}#sk-container-id-40 div.sk-serial {display: flex;flex-direction: column;align-items: center;background-color: white;padding-right: 0.2em;padding-left: 0.2em;position: relative;}#sk-container-id-40 div.sk-item {position: relative;z-index: 1;}#sk-container-id-40 div.sk-parallel {display: flex;align-items: stretch;justify-content: center;background-color: white;position: relative;}#sk-container-id-40 div.sk-item::before, #sk-container-id-40 div.sk-parallel-item::before {content: \"\";position: absolute;border-left: 1px solid gray;box-sizing: border-box;top: 0;bottom: 0;left: 50%;z-index: -1;}#sk-container-id-40 div.sk-parallel-item {display: flex;flex-direction: column;z-index: 1;position: relative;background-color: white;}#sk-container-id-40 div.sk-parallel-item:first-child::after {align-self: flex-end;width: 50%;}#sk-container-id-40 div.sk-parallel-item:last-child::after {align-self: flex-start;width: 50%;}#sk-container-id-40 div.sk-parallel-item:only-child::after {width: 0;}#sk-container-id-40 div.sk-dashed-wrapped {border: 1px dashed gray;margin: 0 0.4em 0.5em 0.4em;box-sizing: border-box;padding-bottom: 0.4em;background-color: white;}#sk-container-id-40 div.sk-label label {font-family: monospace;font-weight: bold;display: inline-block;line-height: 1.2em;}#sk-container-id-40 div.sk-label-container {text-align: center;}#sk-container-id-40 div.sk-container {/* jupyter's `normalize.less` sets `[hidden] { display: none; }` but bootstrap.min.css set `[hidden] { display: none !important; }` so we also need the `!important` here to be able to override the default hidden behavior on the sphinx rendered scikit-learn.org. See: https://github.com/scikit-learn/scikit-learn/issues/21755 */display: inline-block !important;position: relative;}#sk-container-id-40 div.sk-text-repr-fallback {display: none;}</style><div id=\"sk-container-id-40\" class=\"sk-top-container\"><div class=\"sk-text-repr-fallback\"><pre>GridSearchCV(cv=5, estimator=KNeighborsClassifier(),\n",
       "             param_grid={&#x27;n_neighbors&#x27;: [1, 2, 3, 4, 5, 6, 7, 8, 9, 10, 11, 12,\n",
       "                                         13, 14, 15, 16, 17, 18, 19, 20, 21, 22,\n",
       "                                         23, 24, 25, 26, 27, 28, 29, 30, ...]})</pre><b>In a Jupyter environment, please rerun this cell to show the HTML representation or trust the notebook. <br />On GitHub, the HTML representation is unable to render, please try loading this page with nbviewer.org.</b></div><div class=\"sk-container\" hidden><div class=\"sk-item sk-dashed-wrapped\"><div class=\"sk-label-container\"><div class=\"sk-label sk-toggleable\"><input class=\"sk-toggleable__control sk-hidden--visually\" id=\"sk-estimator-id-106\" type=\"checkbox\" ><label for=\"sk-estimator-id-106\" class=\"sk-toggleable__label sk-toggleable__label-arrow\">GridSearchCV</label><div class=\"sk-toggleable__content\"><pre>GridSearchCV(cv=5, estimator=KNeighborsClassifier(),\n",
       "             param_grid={&#x27;n_neighbors&#x27;: [1, 2, 3, 4, 5, 6, 7, 8, 9, 10, 11, 12,\n",
       "                                         13, 14, 15, 16, 17, 18, 19, 20, 21, 22,\n",
       "                                         23, 24, 25, 26, 27, 28, 29, 30, ...]})</pre></div></div></div><div class=\"sk-parallel\"><div class=\"sk-parallel-item\"><div class=\"sk-item\"><div class=\"sk-label-container\"><div class=\"sk-label sk-toggleable\"><input class=\"sk-toggleable__control sk-hidden--visually\" id=\"sk-estimator-id-107\" type=\"checkbox\" ><label for=\"sk-estimator-id-107\" class=\"sk-toggleable__label sk-toggleable__label-arrow\">estimator: KNeighborsClassifier</label><div class=\"sk-toggleable__content\"><pre>KNeighborsClassifier()</pre></div></div></div><div class=\"sk-serial\"><div class=\"sk-item\"><div class=\"sk-estimator sk-toggleable\"><input class=\"sk-toggleable__control sk-hidden--visually\" id=\"sk-estimator-id-108\" type=\"checkbox\" ><label for=\"sk-estimator-id-108\" class=\"sk-toggleable__label sk-toggleable__label-arrow\">KNeighborsClassifier</label><div class=\"sk-toggleable__content\"><pre>KNeighborsClassifier()</pre></div></div></div></div></div></div></div></div></div></div>"
      ],
      "text/plain": [
       "GridSearchCV(cv=5, estimator=KNeighborsClassifier(),\n",
       "             param_grid={'n_neighbors': [1, 2, 3, 4, 5, 6, 7, 8, 9, 10, 11, 12,\n",
       "                                         13, 14, 15, 16, 17, 18, 19, 20, 21, 22,\n",
       "                                         23, 24, 25, 26, 27, 28, 29, 30, ...]})"
      ]
     },
     "execution_count": 392,
     "metadata": {},
     "output_type": "execute_result"
    }
   ],
   "source": [
    "grid_searchEucli.fit(X_train, y_train)"
   ]
  },
  {
   "cell_type": "code",
   "execution_count": 393,
   "metadata": {},
   "outputs": [
    {
     "name": "stdout",
     "output_type": "stream",
     "text": [
      "Best k: 16\n",
      "Matriz de Confusion:\n",
      " [[20  9  1]\n",
      " [ 5 19  1]\n",
      " [ 0  3  2]]\n",
      "Accuracy: 0.6833333333333333\n",
      "Precision: 0.6970430107526882\n",
      "Recall: 0.6833333333333333\n",
      "F1 Score: 0.6834114959114959\n"
     ]
    }
   ],
   "source": [
    "best_modelEucli = grid_searchEucli.best_estimator_\n",
    "\n",
    "predictionsEucli = best_modelEucli.predict(X_test)\n",
    "indicadoresEucli = calculo_indicadores(predictionsEucli, y_test)\n",
    "\n",
    "print(\"Best k:\", best_modelEucli.get_params()['n_neighbors'])\n",
    "print(\"Matriz de Confusion:\\n\", indicadoresEucli[\"Matriz de confusion\"])\n",
    "print(\"Accuracy:\", indicadoresEucli[\"Accuracy\"])\n",
    "print(\"Precision:\", indicadoresEucli[\"Precision\"])\n",
    "print(\"Recall:\", indicadoresEucli[\"Recall\"])\n",
    "print(\"F1 Score:\", indicadoresEucli[\"F1 Score\"])"
   ]
  },
  {
   "cell_type": "markdown",
   "metadata": {},
   "source": [
    "### Distancia de Mahattan"
   ]
  },
  {
   "cell_type": "code",
   "execution_count": 394,
   "metadata": {},
   "outputs": [
    {
     "name": "stdout",
     "output_type": "stream",
     "text": [
      "Best k: 33\n",
      "Matriz de Confusion:\n",
      " [[21  9  0]\n",
      " [ 7 18  0]\n",
      " [ 0  5  0]]\n",
      "Accuracy: 0.65\n",
      "Precision: 0.609375\n",
      "Recall: 0.65\n",
      "F1 Score: 0.6252268602540834\n"
     ]
    },
    {
     "name": "stderr",
     "output_type": "stream",
     "text": [
      "/Users/azulmakk/anaconda3/lib/python3.11/site-packages/sklearn/metrics/_classification.py:1469: UndefinedMetricWarning: Precision is ill-defined and being set to 0.0 in labels with no predicted samples. Use `zero_division` parameter to control this behavior.\n",
      "  _warn_prf(average, modifier, msg_start, len(result))\n"
     ]
    }
   ],
   "source": [
    "knnCityBlock = KNeighborsClassifier(metric='manhattan')\n",
    "\n",
    "grid_searchCityBlock = GridSearchCV(knnCityBlock, param_grid, cv=5)\n",
    "\n",
    "grid_searchCityBlock.fit(X_train, y_train)\n",
    "\n",
    "best_modelCityBlock = grid_searchCityBlock.best_estimator_\n",
    "\n",
    "predictionsCityBlock = best_modelCityBlock.predict(X_test)\n",
    "indicadoresCityBlock = calculo_indicadores(predictionsCityBlock, y_test)\n",
    "\n",
    "accuracyCityBlock = accuracy_score(y_test, predictionsCityBlock)\n",
    "precisionCityBlock = precision_score(y_test, predictionsCityBlock, average='weighted')\n",
    "recallCityBlock = recall_score(y_test, predictionsCityBlock, average='weighted')\n",
    "f1CityBlock = f1_score(y_test, predictionsCityBlock, average='weighted')\n",
    "\n",
    "print(\"Best k:\", best_modelCityBlock.get_params()['n_neighbors'])\n",
    "print(\"Matriz de Confusion:\\n\", indicadoresCityBlock[\"Matriz de confusion\"])\n",
    "print(\"Accuracy:\", accuracyCityBlock)\n",
    "print(\"Precision:\", precisionCityBlock)\n",
    "print(\"Recall:\", recallCityBlock)\n",
    "print(\"F1 Score:\", f1CityBlock)"
   ]
  },
  {
   "cell_type": "markdown",
   "metadata": {},
   "source": [
    "### Distancia de Chebychev"
   ]
  },
  {
   "cell_type": "code",
   "execution_count": 395,
   "metadata": {},
   "outputs": [
    {
     "name": "stdout",
     "output_type": "stream",
     "text": [
      "Best k: 6\n",
      "Matriz de Confusion:\n",
      " [[18 11  1]\n",
      " [ 6 16  3]\n",
      " [ 1  3  1]]\n",
      "Accuracy: 0.5833333333333334\n",
      "Precision: 0.5988888888888888\n",
      "Recall: 0.5833333333333334\n",
      "F1 Score: 0.5863636363636364\n"
     ]
    }
   ],
   "source": [
    "knn_chebyshev = KNeighborsClassifier(metric='chebyshev')\n",
    "\n",
    "grid_search_chebyshev = GridSearchCV(knn_chebyshev, param_grid, cv=5)\n",
    "\n",
    "grid_search_chebyshev.fit(X_train, y_train)\n",
    "\n",
    "best_model_chebyshev = grid_search_chebyshev.best_estimator_\n",
    "\n",
    "predictions_chebyshev = best_model_chebyshev.predict(X_test)\n",
    "indicadores_chebyshev = calculo_indicadores(predictions_chebyshev, y_test)\n",
    "\n",
    "accuracy_chebyshev = accuracy_score(y_test, predictions_chebyshev)\n",
    "precision_chebyshev = precision_score(y_test, predictions_chebyshev, average='weighted')\n",
    "recall_chebyshev = recall_score(y_test, predictions_chebyshev, average='weighted')\n",
    "f1_chebyshev = f1_score(y_test, predictions_chebyshev, average='weighted')\n",
    "\n",
    "print(\"Best k:\", best_model_chebyshev.get_params()['n_neighbors'])\n",
    "print(\"Matriz de Confusion:\\n\", indicadores_chebyshev[\"Matriz de confusion\"])\n",
    "print(\"Accuracy:\", accuracy_chebyshev)\n",
    "print(\"Precision:\", precision_chebyshev)\n",
    "print(\"Recall:\", recall_chebyshev)\n",
    "print(\"F1 Score:\", f1_chebyshev)"
   ]
  },
  {
   "cell_type": "markdown",
   "metadata": {},
   "source": [
    "### Distnacias de Canberra"
   ]
  },
  {
   "cell_type": "code",
   "execution_count": 396,
   "metadata": {},
   "outputs": [
    {
     "name": "stdout",
     "output_type": "stream",
     "text": [
      "Best k: 12\n",
      "Matriz de Confusion:\n",
      " [[18 11  1]\n",
      " [ 6 16  3]\n",
      " [ 1  3  1]]\n",
      "Accuracy: 0.6833333333333333\n",
      "Precision: 0.7196180555555555\n",
      "Recall: 0.6833333333333333\n",
      "F1 Score: 0.6739766081871343\n"
     ]
    }
   ],
   "source": [
    "canberra_distance = pairwise_distances(X_train, X_train, metric='canberra')\n",
    "\n",
    "knn_canberra = KNeighborsClassifier(metric='precomputed')\n",
    "\n",
    "grid_search_canberra = GridSearchCV(knn_canberra, param_grid, cv=5)\n",
    "\n",
    "grid_search_canberra.fit(canberra_distance, y_train)\n",
    "\n",
    "best_model_canberra = grid_search_canberra.best_estimator_\n",
    "\n",
    "canberra_distance_test = pairwise_distances(X_test, X_train, metric='canberra')\n",
    "\n",
    "predictions_canberra = best_model_canberra.predict(canberra_distance_test)\n",
    "indicadores_canberra = calculo_indicadores(predictions_chebyshev, y_test)\n",
    "\n",
    "accuracy_canberra = accuracy_score(y_test, predictions_canberra)\n",
    "precision_canberra = precision_score(y_test, predictions_canberra, average='weighted')\n",
    "recall_canberra = recall_score(y_test, predictions_canberra, average='weighted')\n",
    "f1_canberra = f1_score(y_test, predictions_canberra, average='weighted')\n",
    "\n",
    "print(\"Best k:\", best_model_canberra.get_params()['n_neighbors'])\n",
    "print(\"Matriz de Confusion:\\n\", indicadores_canberra[\"Matriz de confusion\"])\n",
    "print(\"Accuracy:\", accuracy_canberra)\n",
    "print(\"Precision:\", precision_canberra)\n",
    "print(\"Recall:\", recall_canberra)\n",
    "print(\"F1 Score:\", f1_canberra)"
   ]
  },
  {
   "cell_type": "markdown",
   "metadata": {},
   "source": [
    "# Algoritmo de elaboración propia"
   ]
  },
  {
   "cell_type": "code",
   "execution_count": 409,
   "metadata": {},
   "outputs": [
    {
     "name": "stdout",
     "output_type": "stream",
     "text": [
      "Matriz de Confusion:\n",
      " [[19 11  0]\n",
      " [ 4 21  0]\n",
      " [ 1  2  2]]\n",
      "Accuracy: 0.7\n",
      "Precision: 0.7365196078431372\n",
      "Recall: 0.7\n",
      "F1 Score: 0.696081068962425\n"
     ]
    }
   ],
   "source": [
    "import numpy as np\n",
    "from scipy.spatial import distance\n",
    "from collections import defaultdict\n",
    "from sklearn.metrics import confusion_matrix, accuracy_score, precision_score, recall_score, f1_score\n",
    "\n",
    "def calculate_group_probabilities(X_train, y_train, X_test, k_neighbors):\n",
    "    probabilities = []\n",
    "\n",
    "    for i in range(len(X_test)):\n",
    "        distances = [(j, distance.euclidean(X_test.iloc[i], X_train.iloc[j])) for j in range(len(X_train))]\n",
    "        distances.sort(key=lambda x: x[1])\n",
    "        neighbors = distances[:k_neighbors]\n",
    "\n",
    "        group_probabilities = defaultdict(float)\n",
    "        total_distance = 0\n",
    "\n",
    "        for idx, dist in neighbors:\n",
    "            group = y_train.iloc[idx]\n",
    "            weight = 1 / (dist + 1e-6)  \n",
    "            group_probabilities[group] += weight\n",
    "            total_distance += weight\n",
    "\n",
    "        normalized_probabilities = {group: prob / total_distance for group, prob in group_probabilities.items()}\n",
    "        probabilities.append(normalized_probabilities)\n",
    "\n",
    "    return probabilities\n",
    "\n",
    "k_neighbors = best_modelEucli.get_params()['n_neighbors']\n",
    "probabilities = calculate_group_probabilities(X_train, y_train, X_test, k_neighbors)\n",
    "\n",
    "threshold = 0.8\n",
    "\n",
    "predictions_binary = []\n",
    "for prob_dict in probabilities:\n",
    "    predicted_class = max(prob_dict.items(), key=lambda x: x[1])[0]\n",
    "    predictions_binary.append(predicted_class)\n",
    "\n",
    "y_true = y_test.astype(str)\n",
    "\n",
    "confusion_matrix_binary = confusion_matrix(y_true, predictions_binary)\n",
    "accuracy_binary = accuracy_score(y_true, predictions_binary)\n",
    "precision_binary = precision_score(y_true, predictions_binary, average='weighted')\n",
    "recall_binary = recall_score(y_true, predictions_binary, average='weighted')\n",
    "f1_binary = f1_score(y_true, predictions_binary, average='weighted')\n",
    "\n",
    "print(\"Matriz de Confusion:\\n\", confusion_matrix_binary)\n",
    "print(\"Accuracy:\", accuracy_binary)\n",
    "print(\"Precision:\", precision_binary)\n",
    "print(\"Recall:\", recall_binary)\n",
    "print(\"F1 Score:\", f1_binary)"
   ]
  }
 ],
 "metadata": {
  "kernelspec": {
   "display_name": "Python 3",
   "language": "python",
   "name": "python3"
  },
  "language_info": {
   "codemirror_mode": {
    "name": "ipython",
    "version": 3
   },
   "file_extension": ".py",
   "mimetype": "text/x-python",
   "name": "python",
   "nbconvert_exporter": "python",
   "pygments_lexer": "ipython3",
   "version": "3.11.5"
  }
 },
 "nbformat": 4,
 "nbformat_minor": 2
}
